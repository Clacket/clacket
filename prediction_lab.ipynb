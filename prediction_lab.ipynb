{
 "cells": [
  {
   "cell_type": "code",
   "execution_count": 1,
   "metadata": {},
   "outputs": [],
   "source": [
    "from engine.models.distance import DistanceMatrix\n",
    "from engine.models.movie import Movie\n",
    "import pandas as pd"
   ]
  },
  {
   "cell_type": "code",
   "execution_count": 2,
   "metadata": {},
   "outputs": [],
   "source": [
    "folder = '/media/mariam/Files/ran/clacket-save'\n",
    "matrix = DistanceMatrix(folder)\n",
    "matrix.load()"
   ]
  },
  {
   "cell_type": "code",
   "execution_count": 3,
   "metadata": {},
   "outputs": [],
   "source": [
    "movies = ['1'] + list(matrix.matrix['1'].keys())"
   ]
  },
  {
   "cell_type": "code",
   "execution_count": 8,
   "metadata": {},
   "outputs": [],
   "source": [
    "import sys\n",
    "import random\n",
    "from math import ceil\n",
    "        \n",
    "def testing_set(percentage, movie_ids):\n",
    "    testing_size = ceil(percentage * len(movie_ids))\n",
    "    return random.sample(movie_ids, testing_size)\n",
    "\n",
    "def k_nearest(matrix, id, testing_set, k=5, thresh=None):\n",
    "    distances = matrix.get_some(id, testing_set)\n",
    "    start = 1 if id in testing_set else 0  # start from 1 because 0 will always be itself if included\n",
    "    nearest_k = sorted(distances, key=lambda x: x[1])[start:k+start]\n",
    "    return [x[0] for x in nearest_k] if thresh is None else [x[0] for x in nearest_k if x[1] >= thresh]\n",
    "\n",
    "def k_nearest_all(testing_set, matrix, k=5):\n",
    "    i = 1\n",
    "    n = len(testing_set)\n",
    "    for movie_id in testing_set:\n",
    "        sys.stdout.write('\\rCalculating nearest {0} for {1} out of {2}..'.format(k, i, n))\n",
    "        sys.stdout.flush()\n",
    "        movie = Movie.load(folder, movie_id)\n",
    "        nearest = k_nearest(matrix, movie_id, testing_set, k=k)\n",
    "        users = []\n",
    "        for near_movie_id in nearest:\n",
    "            near_movie = Movie.load(folder, near_movie_id)\n",
    "            positive_users = near_movie.ratings[near_movie.ratings['rating'] > 3]['user_id'].tolist()\n",
    "            users.extend(positive_users)\n",
    "        if not hasattr(movie, 'predictions') or movie.predictions is None:\n",
    "            movie.predictions = {}\n",
    "        if n not in movie.predictions:\n",
    "            movie.predictions[n] = {}\n",
    "        movie.predictions[n][k] = users\n",
    "        movie.save(folder)\n",
    "        i += 1\n",
    "\n",
    "def measure_predictions(movie_id, min, k, n):\n",
    "    movie = Movie.load(folder, movie_id)\n",
    "    intersection = movie.ratings[movie.ratings['user_id'].isin(movie.predictions[n][k])]\n",
    "    hits = intersection[intersection['rating'] >= min].shape[0]\n",
    "    misses = intersection[intersection['rating'] < min].shape[0]\n",
    "    return (hits, misses)\n",
    "\n",
    "def all_predictions(testing_set, min=4, k=5):\n",
    "    hits = 0\n",
    "    misses = 0\n",
    "    n = len(testing_set)\n",
    "    for movie_id in testing_set:\n",
    "        m_hits, m_misses = measure_predictions(movie_id, min, k, n)\n",
    "        hits += m_hits\n",
    "        misses += m_misses\n",
    "    return (hits, misses)\n",
    "\n",
    "def perc(predictions):\n",
    "    hits, misses = predictions\n",
    "    total = hits + misses\n",
    "    hits_p = (hits/total) * 100\n",
    "    misses_p = (misses/total) * 100\n",
    "    return (hits, hits_p, misses, misses_p)\n",
    "\n",
    "def predict(testing_set, matrix, ks=[5], print_only=False):\n",
    "    results_matrix = {\n",
    "        'k': [],\n",
    "        'total_hits_3': [], 'perc_hits_3': [],\n",
    "        'total_misses_3': [], 'perc_misses_3': [],\n",
    "        'total_hits_4': [], 'perc_hits_4': [],\n",
    "        'total_misses_4': [], 'perc_misses_4': []\n",
    "    }\n",
    "    for k in ks:\n",
    "        sys.stdout.write('\\rTesting predictions for k={0}..'.format(k))\n",
    "        sys.stdout.flush()\n",
    "        results_matrix['k'].append(k)\n",
    "        if not print_only:\n",
    "            k_nearest_all(testing_set, matrix, k=k)\n",
    "        for minimum in [3, 4]:\n",
    "            predictions = all_predictions(testing_set, min=minimum, k=k)\n",
    "            hits, hits_p, misses, misses_p = perc(predictions)\n",
    "            results_matrix['total_hits_{0}'.format(minimum)].append(hits)\n",
    "            results_matrix['perc_hits_{0}'.format(minimum)].append(hits_p)\n",
    "            results_matrix['total_misses_{0}'.format(minimum)].append(misses)\n",
    "            results_matrix['perc_misses_{0}'.format(minimum)].append(misses_p)\n",
    "    print('Done.')\n",
    "    return pd.DataFrame(data=results_matrix)"
   ]
  },
  {
   "cell_type": "code",
   "execution_count": null,
   "metadata": {},
   "outputs": [],
   "source": [
    "t_set1 = testing_set(1, movies)\n",
    "df1 = predict(t_set1, matrix, ks=[3,4,5,6])"
   ]
  },
  {
   "cell_type": "code",
   "execution_count": 66,
   "metadata": {},
   "outputs": [],
   "source": [
    "import matplotlib.pyplot as plt\n",
    "import pylab\n",
    "\n",
    "def plot(df, size_str):\n",
    "    df.plot.bar(x='k', y=['perc_hits_3', 'perc_hits_4'], ylim=(0,100))\n",
    "    plt.title('Sample Size: {0}'.format(size_str))\n",
    "    saved = pylab.savefig('Results_{0}.png'.format(size_str[:-1]))\n",
    "    plt.show()"
   ]
  },
  {
   "cell_type": "code",
   "execution_count": 67,
   "metadata": {},
   "outputs": [
    {
     "name": "stderr",
     "output_type": "stream",
     "text": [
      "/home/mariam/code/clacket/clacket/venv/lib/python3.6/site-packages/pandas/plotting/_core.py:1714: UserWarning: Pandas doesn't allow columns to be created via a new attribute name - see https://pandas.pydata.org/pandas-docs/stable/indexing.html#attribute-access\n",
      "  series.name = label\n"
     ]
    },
    {
     "data": {
      "image/png": "[encoded data removed]",
      "text/plain": [
       "<matplotlib.figure.Figure at 0x7f5fedb6ebe0>"
      ]
     },
     "metadata": {},
     "output_type": "display_data"
    },
    {
     "data": {
      "text/html": [
       "<div>\n",
       "<style scoped>\n",
       "    .dataframe tbody tr th:only-of-type {\n",
       "        vertical-align: middle;\n",
       "    }\n",
       "\n",
       "    .dataframe tbody tr th {\n",
       "        vertical-align: top;\n",
       "    }\n",
       "\n",
       "    .dataframe thead th {\n",
       "        text-align: right;\n",
       "    }\n",
       "</style>\n",
       "<table border=\"1\" class=\"dataframe\">\n",
       "  <thead>\n",
       "    <tr style=\"text-align: right;\">\n",
       "      <th></th>\n",
       "      <th>k</th>\n",
       "      <th>perc_hits_3</th>\n",
       "      <th>perc_hits_4</th>\n",
       "      <th>perc_misses_3</th>\n",
       "      <th>perc_misses_4</th>\n",
       "      <th>total_hits_3</th>\n",
       "      <th>total_hits_4</th>\n",
       "      <th>total_misses_3</th>\n",
       "      <th>total_misses_4</th>\n",
       "    </tr>\n",
       "  </thead>\n",
       "  <tbody>\n",
       "    <tr>\n",
       "      <th>0</th>\n",
       "      <td>3</td>\n",
       "      <td>95.477644</td>\n",
       "      <td>82.979740</td>\n",
       "      <td>4.522356</td>\n",
       "      <td>17.020260</td>\n",
       "      <td>11046645</td>\n",
       "      <td>9600653</td>\n",
       "      <td>523231</td>\n",
       "      <td>1969223</td>\n",
       "    </tr>\n",
       "    <tr>\n",
       "      <th>1</th>\n",
       "      <td>4</td>\n",
       "      <td>94.299188</td>\n",
       "      <td>78.925633</td>\n",
       "      <td>5.700812</td>\n",
       "      <td>21.074367</td>\n",
       "      <td>13152467</td>\n",
       "      <td>11008226</td>\n",
       "      <td>795126</td>\n",
       "      <td>2939367</td>\n",
       "    </tr>\n",
       "    <tr>\n",
       "      <th>2</th>\n",
       "      <td>5</td>\n",
       "      <td>93.376856</td>\n",
       "      <td>75.708372</td>\n",
       "      <td>6.623144</td>\n",
       "      <td>24.291628</td>\n",
       "      <td>15279508</td>\n",
       "      <td>12388366</td>\n",
       "      <td>1083763</td>\n",
       "      <td>3974905</td>\n",
       "    </tr>\n",
       "    <tr>\n",
       "      <th>3</th>\n",
       "      <td>6</td>\n",
       "      <td>92.685254</td>\n",
       "      <td>73.323189</td>\n",
       "      <td>7.314746</td>\n",
       "      <td>26.676811</td>\n",
       "      <td>17212104</td>\n",
       "      <td>13616474</td>\n",
       "      <td>1358384</td>\n",
       "      <td>4954014</td>\n",
       "    </tr>\n",
       "  </tbody>\n",
       "</table>\n",
       "</div>"
      ],
      "text/plain": [
       "   k  perc_hits_3  perc_hits_4  perc_misses_3  perc_misses_4  total_hits_3  \\\n",
       "0  3    95.477644    82.979740       4.522356      17.020260      11046645   \n",
       "1  4    94.299188    78.925633       5.700812      21.074367      13152467   \n",
       "2  5    93.376856    75.708372       6.623144      24.291628      15279508   \n",
       "3  6    92.685254    73.323189       7.314746      26.676811      17212104   \n",
       "\n",
       "   total_hits_4  total_misses_3  total_misses_4  \n",
       "0       9600653          523231         1969223  \n",
       "1      11008226          795126         2939367  \n",
       "2      12388366         1083763         3974905  \n",
       "3      13616474         1358384         4954014  "
      ]
     },
     "execution_count": 67,
     "metadata": {},
     "output_type": "execute_result"
    }
   ],
   "source": [
    "plot(df1, '100%')\n",
    "df1"
   ]
  },
  {
   "cell_type": "code",
   "execution_count": 61,
   "metadata": {},
   "outputs": [
    {
     "name": "stdout",
     "output_type": "stream",
     "text": [
      "Calculating nearest 6 for 6580 out of 6580..Done.\n"
     ]
    }
   ],
   "source": [
    "t_set2 = testing_set(0.7, movies)\n",
    "df2 = predict(t_set2, matrix, ks=[3,4,5,6])"
   ]
  },
  {
   "cell_type": "code",
   "execution_count": 68,
   "metadata": {},
   "outputs": [
    {
     "name": "stderr",
     "output_type": "stream",
     "text": [
      "/home/mariam/code/clacket/clacket/venv/lib/python3.6/site-packages/pandas/plotting/_core.py:1714: UserWarning: Pandas doesn't allow columns to be created via a new attribute name - see https://pandas.pydata.org/pandas-docs/stable/indexing.html#attribute-access\n",
      "  series.name = label\n"
     ]
    },
    {
     "data": {
      "image/png": "[encoded data removed]",
      "text/plain": [
       "<matplotlib.figure.Figure at 0x7f5fee173320>"
      ]
     },
     "metadata": {},
     "output_type": "display_data"
    },
    {
     "data": {
      "text/html": [
       "<div>\n",
       "<style scoped>\n",
       "    .dataframe tbody tr th:only-of-type {\n",
       "        vertical-align: middle;\n",
       "    }\n",
       "\n",
       "    .dataframe tbody tr th {\n",
       "        vertical-align: top;\n",
       "    }\n",
       "\n",
       "    .dataframe thead th {\n",
       "        text-align: right;\n",
       "    }\n",
       "</style>\n",
       "<table border=\"1\" class=\"dataframe\">\n",
       "  <thead>\n",
       "    <tr style=\"text-align: right;\">\n",
       "      <th></th>\n",
       "      <th>k</th>\n",
       "      <th>perc_hits_3</th>\n",
       "      <th>perc_hits_4</th>\n",
       "      <th>perc_misses_3</th>\n",
       "      <th>perc_misses_4</th>\n",
       "      <th>total_hits_3</th>\n",
       "      <th>total_hits_4</th>\n",
       "      <th>total_misses_3</th>\n",
       "      <th>total_misses_4</th>\n",
       "    </tr>\n",
       "  </thead>\n",
       "  <tbody>\n",
       "    <tr>\n",
       "      <th>0</th>\n",
       "      <td>3</td>\n",
       "      <td>95.283744</td>\n",
       "      <td>82.156510</td>\n",
       "      <td>4.716256</td>\n",
       "      <td>17.843490</td>\n",
       "      <td>8141530</td>\n",
       "      <td>7019872</td>\n",
       "      <td>402981</td>\n",
       "      <td>1524639</td>\n",
       "    </tr>\n",
       "    <tr>\n",
       "      <th>1</th>\n",
       "      <td>4</td>\n",
       "      <td>94.215589</td>\n",
       "      <td>78.367356</td>\n",
       "      <td>5.784411</td>\n",
       "      <td>21.632644</td>\n",
       "      <td>9550085</td>\n",
       "      <td>7943642</td>\n",
       "      <td>586332</td>\n",
       "      <td>2192775</td>\n",
       "    </tr>\n",
       "    <tr>\n",
       "      <th>2</th>\n",
       "      <td>5</td>\n",
       "      <td>93.440233</td>\n",
       "      <td>75.830632</td>\n",
       "      <td>6.559767</td>\n",
       "      <td>24.169368</td>\n",
       "      <td>10962724</td>\n",
       "      <td>8896706</td>\n",
       "      <td>769614</td>\n",
       "      <td>2835632</td>\n",
       "    </tr>\n",
       "    <tr>\n",
       "      <th>3</th>\n",
       "      <td>6</td>\n",
       "      <td>92.685987</td>\n",
       "      <td>73.395716</td>\n",
       "      <td>7.314013</td>\n",
       "      <td>26.604284</td>\n",
       "      <td>12285319</td>\n",
       "      <td>9728437</td>\n",
       "      <td>969456</td>\n",
       "      <td>3526338</td>\n",
       "    </tr>\n",
       "  </tbody>\n",
       "</table>\n",
       "</div>"
      ],
      "text/plain": [
       "   k  perc_hits_3  perc_hits_4  perc_misses_3  perc_misses_4  total_hits_3  \\\n",
       "0  3    95.283744    82.156510       4.716256      17.843490       8141530   \n",
       "1  4    94.215589    78.367356       5.784411      21.632644       9550085   \n",
       "2  5    93.440233    75.830632       6.559767      24.169368      10962724   \n",
       "3  6    92.685987    73.395716       7.314013      26.604284      12285319   \n",
       "\n",
       "   total_hits_4  total_misses_3  total_misses_4  \n",
       "0       7019872          402981         1524639  \n",
       "1       7943642          586332         2192775  \n",
       "2       8896706          769614         2835632  \n",
       "3       9728437          969456         3526338  "
      ]
     },
     "execution_count": 68,
     "metadata": {},
     "output_type": "execute_result"
    }
   ],
   "source": [
    "plot(df2, '70%')\n",
    "df2"
   ]
  },
  {
   "cell_type": "code",
   "execution_count": 63,
   "metadata": {},
   "outputs": [
    {
     "name": "stdout",
     "output_type": "stream",
     "text": [
      "Calculating nearest 6 for 4700 out of 4700..Done.\n"
     ]
    }
   ],
   "source": [
    "t_set3 = testing_set(0.5, movies)\n",
    "df3 = predict(t_set3, matrix, ks=[3,4,5,6])"
   ]
  },
  {
   "cell_type": "code",
   "execution_count": 69,
   "metadata": {},
   "outputs": [
    {
     "name": "stderr",
     "output_type": "stream",
     "text": [
      "/home/mariam/code/clacket/clacket/venv/lib/python3.6/site-packages/pandas/plotting/_core.py:1714: UserWarning: Pandas doesn't allow columns to be created via a new attribute name - see https://pandas.pydata.org/pandas-docs/stable/indexing.html#attribute-access\n",
      "  series.name = label\n"
     ]
    },
    {
     "data": {
      "image/png": "[encoded data removed]",
      "text/plain": [
       "<matplotlib.figure.Figure at 0x7f5ff0566438>"
      ]
     },
     "metadata": {},
     "output_type": "display_data"
    },
    {
     "data": {
      "text/html": [
       "<div>\n",
       "<style scoped>\n",
       "    .dataframe tbody tr th:only-of-type {\n",
       "        vertical-align: middle;\n",
       "    }\n",
       "\n",
       "    .dataframe tbody tr th {\n",
       "        vertical-align: top;\n",
       "    }\n",
       "\n",
       "    .dataframe thead th {\n",
       "        text-align: right;\n",
       "    }\n",
       "</style>\n",
       "<table border=\"1\" class=\"dataframe\">\n",
       "  <thead>\n",
       "    <tr style=\"text-align: right;\">\n",
       "      <th></th>\n",
       "      <th>k</th>\n",
       "      <th>perc_hits_3</th>\n",
       "      <th>perc_hits_4</th>\n",
       "      <th>perc_misses_3</th>\n",
       "      <th>perc_misses_4</th>\n",
       "      <th>total_hits_3</th>\n",
       "      <th>total_hits_4</th>\n",
       "      <th>total_misses_3</th>\n",
       "      <th>total_misses_4</th>\n",
       "    </tr>\n",
       "  </thead>\n",
       "  <tbody>\n",
       "    <tr>\n",
       "      <th>0</th>\n",
       "      <td>3</td>\n",
       "      <td>94.394496</td>\n",
       "      <td>79.003744</td>\n",
       "      <td>5.605504</td>\n",
       "      <td>20.996256</td>\n",
       "      <td>4988263</td>\n",
       "      <td>4174941</td>\n",
       "      <td>296222</td>\n",
       "      <td>1109544</td>\n",
       "    </tr>\n",
       "    <tr>\n",
       "      <th>1</th>\n",
       "      <td>4</td>\n",
       "      <td>93.368976</td>\n",
       "      <td>75.423076</td>\n",
       "      <td>6.631024</td>\n",
       "      <td>24.576924</td>\n",
       "      <td>5980169</td>\n",
       "      <td>4830756</td>\n",
       "      <td>424709</td>\n",
       "      <td>1574122</td>\n",
       "    </tr>\n",
       "    <tr>\n",
       "      <th>2</th>\n",
       "      <td>5</td>\n",
       "      <td>92.508141</td>\n",
       "      <td>72.629061</td>\n",
       "      <td>7.491859</td>\n",
       "      <td>27.370939</td>\n",
       "      <td>6984027</td>\n",
       "      <td>5483229</td>\n",
       "      <td>565608</td>\n",
       "      <td>2066406</td>\n",
       "    </tr>\n",
       "    <tr>\n",
       "      <th>3</th>\n",
       "      <td>6</td>\n",
       "      <td>91.783868</td>\n",
       "      <td>70.526915</td>\n",
       "      <td>8.216132</td>\n",
       "      <td>29.473085</td>\n",
       "      <td>7693299</td>\n",
       "      <td>5911547</td>\n",
       "      <td>688674</td>\n",
       "      <td>2470426</td>\n",
       "    </tr>\n",
       "  </tbody>\n",
       "</table>\n",
       "</div>"
      ],
      "text/plain": [
       "   k  perc_hits_3  perc_hits_4  perc_misses_3  perc_misses_4  total_hits_3  \\\n",
       "0  3    94.394496    79.003744       5.605504      20.996256       4988263   \n",
       "1  4    93.368976    75.423076       6.631024      24.576924       5980169   \n",
       "2  5    92.508141    72.629061       7.491859      27.370939       6984027   \n",
       "3  6    91.783868    70.526915       8.216132      29.473085       7693299   \n",
       "\n",
       "   total_hits_4  total_misses_3  total_misses_4  \n",
       "0       4174941          296222         1109544  \n",
       "1       4830756          424709         1574122  \n",
       "2       5483229          565608         2066406  \n",
       "3       5911547          688674         2470426  "
      ]
     },
     "execution_count": 69,
     "metadata": {},
     "output_type": "execute_result"
    }
   ],
   "source": [
    "plot(df3, '50%')\n",
    "df3"
   ]
  },
  {
   "cell_type": "code",
   "execution_count": 70,
   "metadata": {},
   "outputs": [
    {
     "name": "stdout",
     "output_type": "stream",
     "text": [
      "Calculating nearest 6 for 2820 out of 2820..Done.\n"
     ]
    }
   ],
   "source": [
    "t_set4 = testing_set(0.3, movies)\n",
    "df4 = predict(t_set4, matrix, ks=[3,4,5,6])"
   ]
  },
  {
   "cell_type": "code",
   "execution_count": 71,
   "metadata": {},
   "outputs": [
    {
     "name": "stderr",
     "output_type": "stream",
     "text": [
      "/home/mariam/code/clacket/clacket/venv/lib/python3.6/site-packages/pandas/plotting/_core.py:1714: UserWarning: Pandas doesn't allow columns to be created via a new attribute name - see https://pandas.pydata.org/pandas-docs/stable/indexing.html#attribute-access\n",
      "  series.name = label\n"
     ]
    },
    {
     "data": {
      "image/png": "[encoded data removed]",
      "text/plain": [
       "<matplotlib.figure.Figure at 0x7f5ff0fab2e8>"
      ]
     },
     "metadata": {},
     "output_type": "display_data"
    },
    {
     "data": {
      "text/html": [
       "<div>\n",
       "<style scoped>\n",
       "    .dataframe tbody tr th:only-of-type {\n",
       "        vertical-align: middle;\n",
       "    }\n",
       "\n",
       "    .dataframe tbody tr th {\n",
       "        vertical-align: top;\n",
       "    }\n",
       "\n",
       "    .dataframe thead th {\n",
       "        text-align: right;\n",
       "    }\n",
       "</style>\n",
       "<table border=\"1\" class=\"dataframe\">\n",
       "  <thead>\n",
       "    <tr style=\"text-align: right;\">\n",
       "      <th></th>\n",
       "      <th>k</th>\n",
       "      <th>perc_hits_3</th>\n",
       "      <th>perc_hits_4</th>\n",
       "      <th>perc_misses_3</th>\n",
       "      <th>perc_misses_4</th>\n",
       "      <th>total_hits_3</th>\n",
       "      <th>total_hits_4</th>\n",
       "      <th>total_misses_3</th>\n",
       "      <th>total_misses_4</th>\n",
       "    </tr>\n",
       "  </thead>\n",
       "  <tbody>\n",
       "    <tr>\n",
       "      <th>0</th>\n",
       "      <td>3</td>\n",
       "      <td>92.275733</td>\n",
       "      <td>71.361632</td>\n",
       "      <td>7.724267</td>\n",
       "      <td>28.638368</td>\n",
       "      <td>2898390</td>\n",
       "      <td>2241476</td>\n",
       "      <td>242620</td>\n",
       "      <td>899534</td>\n",
       "    </tr>\n",
       "    <tr>\n",
       "      <th>1</th>\n",
       "      <td>4</td>\n",
       "      <td>91.811222</td>\n",
       "      <td>69.565875</td>\n",
       "      <td>8.188778</td>\n",
       "      <td>30.434125</td>\n",
       "      <td>3421123</td>\n",
       "      <td>2592204</td>\n",
       "      <td>305135</td>\n",
       "      <td>1134054</td>\n",
       "    </tr>\n",
       "    <tr>\n",
       "      <th>2</th>\n",
       "      <td>5</td>\n",
       "      <td>91.160702</td>\n",
       "      <td>67.699246</td>\n",
       "      <td>8.839298</td>\n",
       "      <td>32.300754</td>\n",
       "      <td>3957792</td>\n",
       "      <td>2939200</td>\n",
       "      <td>383763</td>\n",
       "      <td>1402355</td>\n",
       "    </tr>\n",
       "    <tr>\n",
       "      <th>3</th>\n",
       "      <td>6</td>\n",
       "      <td>90.655414</td>\n",
       "      <td>66.316043</td>\n",
       "      <td>9.344586</td>\n",
       "      <td>33.683957</td>\n",
       "      <td>4534184</td>\n",
       "      <td>3316836</td>\n",
       "      <td>467375</td>\n",
       "      <td>1684723</td>\n",
       "    </tr>\n",
       "  </tbody>\n",
       "</table>\n",
       "</div>"
      ],
      "text/plain": [
       "   k  perc_hits_3  perc_hits_4  perc_misses_3  perc_misses_4  total_hits_3  \\\n",
       "0  3    92.275733    71.361632       7.724267      28.638368       2898390   \n",
       "1  4    91.811222    69.565875       8.188778      30.434125       3421123   \n",
       "2  5    91.160702    67.699246       8.839298      32.300754       3957792   \n",
       "3  6    90.655414    66.316043       9.344586      33.683957       4534184   \n",
       "\n",
       "   total_hits_4  total_misses_3  total_misses_4  \n",
       "0       2241476          242620          899534  \n",
       "1       2592204          305135         1134054  \n",
       "2       2939200          383763         1402355  \n",
       "3       3316836          467375         1684723  "
      ]
     },
     "execution_count": 71,
     "metadata": {},
     "output_type": "execute_result"
    }
   ],
   "source": [
    "plot(df4, '30%')\n",
    "df4"
   ]
  },
  {
   "cell_type": "code",
   "execution_count": null,
   "metadata": {},
   "outputs": [],
   "source": []
  }
 ],
 "metadata": {
  "kernelspec": {
   "display_name": "Python 3",
   "language": "python",
   "name": "python3"
  },
  "language_info": {
   "codemirror_mode": {
    "name": "ipython",
    "version": 3
   },
   "file_extension": ".py",
   "mimetype": "text/x-python",
   "name": "python",
   "nbconvert_exporter": "python",
   "pygments_lexer": "ipython3",
   "version": "3.6.2"
  }
 },
 "nbformat": 4,
 "nbformat_minor": 2
}
