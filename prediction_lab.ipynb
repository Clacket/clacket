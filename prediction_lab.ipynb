{
 "cells": [
  {
   "cell_type": "code",
   "execution_count": 1,
   "metadata": {},
   "outputs": [],
   "source": [
    "%load_ext autoreload\n",
    "%autoreload 2"
   ]
  },
  {
   "cell_type": "code",
   "execution_count": 1,
   "metadata": {},
   "outputs": [],
   "source": [
    "from engine.models.distance import DistanceMatrix\n",
    "from engine.models.movie import Movie\n",
    "from engine.models.prediction import Prediction\n",
    "import pandas as pd"
   ]
  },
  {
   "cell_type": "code",
   "execution_count": 36,
   "metadata": {},
   "outputs": [],
   "source": [
    "import numpy as np"
   ]
  },
  {
   "cell_type": "code",
   "execution_count": 29,
   "metadata": {},
   "outputs": [],
   "source": [
    "folder = '/media/mariam/Files/ran/clacket-save'\n",
    "matrix = DistanceMatrix(folder)\n",
    "matrix.load()"
   ]
  },
  {
   "cell_type": "code",
   "execution_count": 30,
   "metadata": {},
   "outputs": [],
   "source": [
    "movies = ['1'] + list(matrix.matrix['1'].keys())"
   ]
  },
  {
   "cell_type": "code",
   "execution_count": 37,
   "metadata": {},
   "outputs": [],
   "source": [
    "import sys\n",
    "import random\n",
    "from math import ceil, sqrt\n",
    "\n",
    "DATASET = 'dataset/expanded_movies.txt'\n",
    "\n",
    "def get_year(movie_id):\n",
    "    ret = None\n",
    "    with open(DATASET) as dataset:\n",
    "        for movie_line in dataset:\n",
    "            split = movie_line.split('|')\n",
    "            id, year = split[0], split[2]\n",
    "            if id == movie_id:\n",
    "                if year != 'N/A':\n",
    "                    ret = int(year)\n",
    "                else:\n",
    "                    break\n",
    "    return ret\n",
    "\n",
    "def crono_label(start, end):\n",
    "    return '{0}_{1}'.format(start, end)\n",
    "\n",
    "def older(other_movie, base_movie):\n",
    "    # return true if other_movie is older than base_movie\n",
    "    return get_year(base_movie) > get_year(other_movie)\n",
    "        \n",
    "def testing_set(percentage, movie_ids):\n",
    "    testing_size = ceil(percentage * len(movie_ids))\n",
    "    pool = random.sample(movie_ids, testing_size)\n",
    "    return (pool, pool)\n",
    "\n",
    "def cronological_set(start, end):\n",
    "    pool = []\n",
    "    new = []\n",
    "    with open(DATASET) as dataset:\n",
    "        for movie_line in dataset:\n",
    "            split = movie_line.split('|')\n",
    "            id, year = split[0], split[2]\n",
    "            if year != 'N/A':\n",
    "                year = int(year)\n",
    "                if year <= end:\n",
    "                    pool.append(id)\n",
    "                    if year >= start:\n",
    "                        new.append(id)\n",
    "    return (pool, new)\n",
    "\n",
    "def k_nearest(matrix, id, testing_set, k=5, cronological=False):\n",
    "    distances = matrix.get_some(id, testing_set)\n",
    "    start = 1 if id in testing_set else 0  # start from 1 because 0 will always be itself if included\n",
    "    nearest_k = sorted(distances, key=lambda x: x[1])[start:k+start]\n",
    "    return [x[0] for x in nearest_k] if not cronological else [x[0] for x in nearest_k if older(x[0], id)]\n",
    "\n",
    "def k_nearest_all(pool, testing_set, matrix, k=5, cronological=False, **kwargs):\n",
    "    i = 1\n",
    "    n = len(testing_set)\n",
    "    for movie_id in testing_set:\n",
    "        sys.stdout.write('\\rCalculating nearest {0} for {1} out of {2}..'.format(k, i, n))\n",
    "        sys.stdout.flush()\n",
    "        try:\n",
    "            movie = Movie.load(folder, movie_id)\n",
    "            nearest = k_nearest(matrix, movie_id, pool, k=k, cronological=cronological)\n",
    "            predictions = Prediction(predicted_type=kwargs.get('predicted_type', 'mean'))\n",
    "            for near_movie_id in nearest:\n",
    "                near_movie = Movie.load(folder, near_movie_id)\n",
    "                predictions.extend(near_movie.ratings)\n",
    "            if not hasattr(movie, 'predictions') or movie.predictions is None:\n",
    "                movie.predictions = {}\n",
    "            if cronological:\n",
    "                start, end = kwargs.get('start'), kwargs.get('end')\n",
    "                label = crono_label(start, end)\n",
    "                if label not in movie.predictions:\n",
    "                    movie.predictions[label] = {}\n",
    "                if k not in movie.predictions[label]:\n",
    "                    movie.predictions[label][k] = {}\n",
    "                movie.predictions[label][k]['list'] = predictions.list\n",
    "                movie.predictions[label][k]['users'] = predictions.users\n",
    "            else:\n",
    "                if n not in movie.predictions:\n",
    "                    movie.predictions[n] = {}\n",
    "                if k not in movie.predictions[n] or 'list' not in movie.predictions[n][k]:\n",
    "                    movie.predictions[n][k] = {}\n",
    "                movie.predictions[n][k]['list'] = predictions.list\n",
    "                movie.predictions[n][k]['users'] = predictions.users\n",
    "            movie.save(folder)\n",
    "        except EOFError:\n",
    "            print('Could not load movie: {0}'.format(movie_id))\n",
    "        i += 1\n",
    "\n",
    "\n",
    "def get_predictions(movie_id, cronological=False, **kwargs):\n",
    "    movie = Movie.load(folder, movie_id)\n",
    "    k = kwargs.get('k', 1)\n",
    "    predictions = None\n",
    "    if cronological:\n",
    "        start, end = kwargs.get('start'), kwargs.get('end')\n",
    "        label = crono_label(start, end)\n",
    "        predictions = movie.predictions[label]\n",
    "    else:\n",
    "        n = kwargs.get('n', 9399)\n",
    "        predictions = movie.predictions[n]\n",
    "    movie.ratings.set_index('user_id', inplace=True)\n",
    "    return predictions[k]['list'].join(movie.ratings, how='inner', on='user_id')\n",
    "\n",
    "def measure_predictions(movie_id, min, k=1, n=9399, cronological=False, **kwargs):\n",
    "    predictions = get_predictions(movie_id, cronological=cronological, k=k, n=n, **kwargs)\n",
    "    intersection = predictions[predictions['mean_rating'] >= min]\n",
    "    hits = intersection[intersection['rating'] >= min].shape[0]\n",
    "    misses = intersection[intersection['rating'] < min].shape[0]\n",
    "    absolute_error = abs(intersection['rating'] - intersection['mean_rating'])\n",
    "    delta = pow(predictions['rating'] - predictions['mean_rating'], 2)\n",
    "    n_add = delta.size\n",
    "    sum_squared = delta.sum() if not delta.empty else 0\n",
    "    return (hits, misses, absolute_error, n_add, sum_squared)\n",
    "\n",
    "def all_predictions(testing_set, min=4, k=5, cronological=False, **kwargs):\n",
    "    hits, misses = 0,0\n",
    "    n = len(testing_set)\n",
    "    ratings, sum_squared_total = 0,0\n",
    "    absolute_error = pd.Series()\n",
    "    for movie_id in testing_set:\n",
    "        sys.stdout.write('\\rTesting predictions for movie_id={0}.. (for k={1})'.format(movie_id, k))\n",
    "        sys.stdout.flush()\n",
    "        m_hits, m_misses, m_absolute_error, n_add, sum_squared = measure_predictions(movie_id, min, k, n, cronological=cronological, **kwargs)\n",
    "        hits += m_hits\n",
    "        misses += m_misses\n",
    "        absolute_error = absolute_error.append(m_absolute_error)\n",
    "        ratings += n_add\n",
    "        sum_squared_total += sum_squared\n",
    "    divided = sum_squared_total/ratings if ratings > 0 else 0\n",
    "    rmse = sqrt(divided)\n",
    "    return (hits, misses, absolute_error.mean(axis=0), rmse)\n",
    "\n",
    "def perc(predictions):\n",
    "    hits, misses, mean_absolute_error, rmse = predictions\n",
    "    total = hits + misses\n",
    "    hits_p = (hits/total) * 100 if total != 0 else np.NaN\n",
    "    misses_p = (misses/total) * 100 if total != 0 else np.NaN\n",
    "    return (hits, hits_p, misses, misses_p, mean_absolute_error, rmse)\n",
    "\n",
    "def predict(pool, testing_set, matrix, ks=[5], print_only=False, mins=[3, 4], cronological=False, **kwargs):\n",
    "    if not print_only:\n",
    "        for k in ks:\n",
    "            k_nearest_all(pool, testing_set, matrix, k=k, cronological=cronological, **kwargs)\n",
    "    results_matrix = {'k': []}\n",
    "    for minimum in mins:\n",
    "        results_matrix['total_hits_{0}'.format(minimum)] = []\n",
    "        results_matrix['total_misses_{0}'.format(minimum)] = []\n",
    "        results_matrix['perc_hits_{0}'.format(minimum)] = []\n",
    "        results_matrix['perc_misses_{0}'.format(minimum)] = []\n",
    "        results_matrix['mean_absolute_error_{0}'.format(minimum)] = []\n",
    "        results_matrix['rmse_{0}'.format(minimum)] = []\n",
    "    for k in ks:\n",
    "        sys.stdout.write('\\rTesting predictions for k={0}..'.format(k))\n",
    "        sys.stdout.flush()\n",
    "        results_matrix['k'].append(k)\n",
    "        mean_absolute_error = 0\n",
    "        for minimum in mins:\n",
    "            predictions = all_predictions(testing_set, min=minimum, k=k, cronological=cronological, **kwargs)\n",
    "            hits, hits_p, misses, misses_p, mean_absolute_error, rmse_val = perc(predictions)\n",
    "            results_matrix['total_hits_{0}'.format(minimum)].append(hits)\n",
    "            results_matrix['perc_hits_{0}'.format(minimum)].append(hits_p)\n",
    "            results_matrix['total_misses_{0}'.format(minimum)].append(misses)\n",
    "            results_matrix['perc_misses_{0}'.format(minimum)].append(misses_p)\n",
    "            results_matrix['mean_absolute_error_{0}'.format(minimum)].append(mean_absolute_error)\n",
    "            results_matrix['rmse_{0}'.format(minimum)].append(rmse_val)\n",
    "    print('Done.')\n",
    "    return pd.DataFrame(data=results_matrix)"
   ]
  },
  {
   "cell_type": "code",
   "execution_count": 44,
   "metadata": {},
   "outputs": [],
   "source": [
    "import matplotlib.pyplot as plt\n",
    "import pylab\n",
    "\n",
    "def plot(df, size_str, save_str, prefix='', ylim=(0,100), x='k', y=['perc_hits_3', 'perc_hits_4', 'perc_hits_5']):\n",
    "    df.plot.bar(x=x, y=y, ylim=ylim)\n",
    "    plt.title('{0}'.format(size_str))\n",
    "    plt.legend(bbox_to_anchor=(1.3, 1),\n",
    "          fancybox=True, shadow=True)\n",
    "    saved = pylab.savefig('Results_{0}{1}.png'.format(prefix, save_str), bbox_inches='tight')\n",
    "    df.to_pickle('{0}.pkl'.format(save_str))\n",
    "    plt.show()"
   ]
  },
  {
   "cell_type": "code",
   "execution_count": 13,
   "metadata": {},
   "outputs": [],
   "source": [
    "# t_set2 = testing_set(0.7, movies)\n",
    "# df2 = predict(t_set2, matrix, ks=[1,2,3,4])"
   ]
  },
  {
   "cell_type": "code",
   "execution_count": 9,
   "metadata": {},
   "outputs": [
    {
     "name": "stderr",
     "output_type": "stream",
     "text": [
      "/home/mariam/code/clacket/clacket/venv/lib/python3.6/site-packages/pandas/plotting/_core.py:1714: UserWarning: Pandas doesn't allow columns to be created via a new attribute name - see https://pandas.pydata.org/pandas-docs/stable/indexing.html#attribute-access\n",
      "  series.name = label\n"
     ]
    },
    {
     "data": {
      "image/png": "[encoded data removed]",
      "text/plain": [
       "<matplotlib.figure.Figure at 0x7fe27cdd1d30>"
      ]
     },
     "metadata": {},
     "output_type": "display_data"
    },
    {
     "data": {
      "text/html": [
       "<div>\n",
       "<style scoped>\n",
       "    .dataframe tbody tr th:only-of-type {\n",
       "        vertical-align: middle;\n",
       "    }\n",
       "\n",
       "    .dataframe tbody tr th {\n",
       "        vertical-align: top;\n",
       "    }\n",
       "\n",
       "    .dataframe thead th {\n",
       "        text-align: right;\n",
       "    }\n",
       "</style>\n",
       "<table border=\"1\" class=\"dataframe\">\n",
       "  <thead>\n",
       "    <tr style=\"text-align: right;\">\n",
       "      <th></th>\n",
       "      <th>k</th>\n",
       "      <th>mean_absolute_error</th>\n",
       "      <th>perc_hits_3</th>\n",
       "      <th>perc_hits_4</th>\n",
       "      <th>perc_misses_3</th>\n",
       "      <th>perc_misses_4</th>\n",
       "      <th>total_hits_3</th>\n",
       "      <th>total_hits_4</th>\n",
       "      <th>total_misses_3</th>\n",
       "      <th>total_misses_4</th>\n",
       "    </tr>\n",
       "  </thead>\n",
       "  <tbody>\n",
       "    <tr>\n",
       "      <th>0</th>\n",
       "      <td>1</td>\n",
       "      <td>0.346605</td>\n",
       "      <td>96.275257</td>\n",
       "      <td>85.333371</td>\n",
       "      <td>3.724743</td>\n",
       "      <td>14.666629</td>\n",
       "      <td>3345983</td>\n",
       "      <td>2965705</td>\n",
       "      <td>129451</td>\n",
       "      <td>509729</td>\n",
       "    </tr>\n",
       "    <tr>\n",
       "      <th>1</th>\n",
       "      <td>2</td>\n",
       "      <td>0.509732</td>\n",
       "      <td>94.297790</td>\n",
       "      <td>77.730753</td>\n",
       "      <td>5.702210</td>\n",
       "      <td>22.269247</td>\n",
       "      <td>5032128</td>\n",
       "      <td>4148041</td>\n",
       "      <td>304294</td>\n",
       "      <td>1188381</td>\n",
       "    </tr>\n",
       "    <tr>\n",
       "      <th>2</th>\n",
       "      <td>3</td>\n",
       "      <td>0.602748</td>\n",
       "      <td>93.074024</td>\n",
       "      <td>72.981694</td>\n",
       "      <td>6.925976</td>\n",
       "      <td>27.018306</td>\n",
       "      <td>6831800</td>\n",
       "      <td>5356987</td>\n",
       "      <td>508379</td>\n",
       "      <td>1983192</td>\n",
       "    </tr>\n",
       "    <tr>\n",
       "      <th>3</th>\n",
       "      <td>4</td>\n",
       "      <td>0.647675</td>\n",
       "      <td>92.509345</td>\n",
       "      <td>70.478780</td>\n",
       "      <td>7.490655</td>\n",
       "      <td>29.521220</td>\n",
       "      <td>8567296</td>\n",
       "      <td>6527044</td>\n",
       "      <td>693710</td>\n",
       "      <td>2733962</td>\n",
       "    </tr>\n",
       "  </tbody>\n",
       "</table>\n",
       "</div>"
      ],
      "text/plain": [
       "   k  mean_absolute_error  perc_hits_3  perc_hits_4  perc_misses_3  \\\n",
       "0  1             0.346605    96.275257    85.333371       3.724743   \n",
       "1  2             0.509732    94.297790    77.730753       5.702210   \n",
       "2  3             0.602748    93.074024    72.981694       6.925976   \n",
       "3  4             0.647675    92.509345    70.478780       7.490655   \n",
       "\n",
       "   perc_misses_4  total_hits_3  total_hits_4  total_misses_3  total_misses_4  \n",
       "0      14.666629       3345983       2965705          129451          509729  \n",
       "1      22.269247       5032128       4148041          304294         1188381  \n",
       "2      27.018306       6831800       5356987          508379         1983192  \n",
       "3      29.521220       8567296       6527044          693710         2733962  "
      ]
     },
     "execution_count": 9,
     "metadata": {},
     "output_type": "execute_result"
    }
   ],
   "source": [
    "# plot(df2, '70%')\n",
    "# df2"
   ]
  },
  {
   "cell_type": "code",
   "execution_count": 10,
   "metadata": {},
   "outputs": [
    {
     "name": "stdout",
     "output_type": "stream",
     "text": [
      "Testing predictions for movie_id=4774.. (for k=4))Done.\n"
     ]
    }
   ],
   "source": [
    "# t_set3 = testing_set(0.5, movies)\n",
    "# df3 = predict(t_set3, matrix, ks=[1,2,3,4])"
   ]
  },
  {
   "cell_type": "code",
   "execution_count": 11,
   "metadata": {},
   "outputs": [
    {
     "name": "stderr",
     "output_type": "stream",
     "text": [
      "/home/mariam/code/clacket/clacket/venv/lib/python3.6/site-packages/pandas/plotting/_core.py:1714: UserWarning: Pandas doesn't allow columns to be created via a new attribute name - see https://pandas.pydata.org/pandas-docs/stable/indexing.html#attribute-access\n",
      "  series.name = label\n"
     ]
    },
    {
     "data": {
      "image/png": "[encoded data removed]",
      "text/plain": [
       "<matplotlib.figure.Figure at 0x7fe27a16e470>"
      ]
     },
     "metadata": {},
     "output_type": "display_data"
    },
    {
     "data": {
      "text/html": [
       "<div>\n",
       "<style scoped>\n",
       "    .dataframe tbody tr th:only-of-type {\n",
       "        vertical-align: middle;\n",
       "    }\n",
       "\n",
       "    .dataframe tbody tr th {\n",
       "        vertical-align: top;\n",
       "    }\n",
       "\n",
       "    .dataframe thead th {\n",
       "        text-align: right;\n",
       "    }\n",
       "</style>\n",
       "<table border=\"1\" class=\"dataframe\">\n",
       "  <thead>\n",
       "    <tr style=\"text-align: right;\">\n",
       "      <th></th>\n",
       "      <th>k</th>\n",
       "      <th>mean_absolute_error</th>\n",
       "      <th>perc_hits_3</th>\n",
       "      <th>perc_hits_4</th>\n",
       "      <th>perc_misses_3</th>\n",
       "      <th>perc_misses_4</th>\n",
       "      <th>total_hits_3</th>\n",
       "      <th>total_hits_4</th>\n",
       "      <th>total_misses_3</th>\n",
       "      <th>total_misses_4</th>\n",
       "    </tr>\n",
       "  </thead>\n",
       "  <tbody>\n",
       "    <tr>\n",
       "      <th>0</th>\n",
       "      <td>1</td>\n",
       "      <td>0.155932</td>\n",
       "      <td>98.373699</td>\n",
       "      <td>93.285899</td>\n",
       "      <td>1.626301</td>\n",
       "      <td>6.714101</td>\n",
       "      <td>4586718</td>\n",
       "      <td>4349497</td>\n",
       "      <td>75827</td>\n",
       "      <td>313048</td>\n",
       "    </tr>\n",
       "    <tr>\n",
       "      <th>1</th>\n",
       "      <td>2</td>\n",
       "      <td>0.272065</td>\n",
       "      <td>97.088543</td>\n",
       "      <td>88.082030</td>\n",
       "      <td>2.911457</td>\n",
       "      <td>11.917970</td>\n",
       "      <td>5446210</td>\n",
       "      <td>4940987</td>\n",
       "      <td>163319</td>\n",
       "      <td>668542</td>\n",
       "    </tr>\n",
       "    <tr>\n",
       "      <th>2</th>\n",
       "      <td>3</td>\n",
       "      <td>0.358565</td>\n",
       "      <td>96.054001</td>\n",
       "      <td>83.878653</td>\n",
       "      <td>3.945999</td>\n",
       "      <td>16.121347</td>\n",
       "      <td>6290809</td>\n",
       "      <td>5493416</td>\n",
       "      <td>258433</td>\n",
       "      <td>1055826</td>\n",
       "    </tr>\n",
       "    <tr>\n",
       "      <th>3</th>\n",
       "      <td>4</td>\n",
       "      <td>0.433844</td>\n",
       "      <td>95.144237</td>\n",
       "      <td>80.258524</td>\n",
       "      <td>4.855763</td>\n",
       "      <td>19.741476</td>\n",
       "      <td>7207548</td>\n",
       "      <td>6079897</td>\n",
       "      <td>367843</td>\n",
       "      <td>1495494</td>\n",
       "    </tr>\n",
       "  </tbody>\n",
       "</table>\n",
       "</div>"
      ],
      "text/plain": [
       "   k  mean_absolute_error  perc_hits_3  perc_hits_4  perc_misses_3  \\\n",
       "0  1             0.155932    98.373699    93.285899       1.626301   \n",
       "1  2             0.272065    97.088543    88.082030       2.911457   \n",
       "2  3             0.358565    96.054001    83.878653       3.945999   \n",
       "3  4             0.433844    95.144237    80.258524       4.855763   \n",
       "\n",
       "   perc_misses_4  total_hits_3  total_hits_4  total_misses_3  total_misses_4  \n",
       "0       6.714101       4586718       4349497           75827          313048  \n",
       "1      11.917970       5446210       4940987          163319          668542  \n",
       "2      16.121347       6290809       5493416          258433         1055826  \n",
       "3      19.741476       7207548       6079897          367843         1495494  "
      ]
     },
     "execution_count": 11,
     "metadata": {},
     "output_type": "execute_result"
    }
   ],
   "source": [
    "# plot(df3, '50%')\n",
    "# df3"
   ]
  },
  {
   "cell_type": "code",
   "execution_count": 12,
   "metadata": {},
   "outputs": [
    {
     "name": "stdout",
     "output_type": "stream",
     "text": [
      "Testing predictions for movie_id=8427.. (for k=4))Done.\n"
     ]
    }
   ],
   "source": [
    "# t_set4 = testing_set(0.3, movies)\n",
    "# df4 = predict(t_set4, matrix, ks=[1,2,3,4])"
   ]
  },
  {
   "cell_type": "code",
   "execution_count": 13,
   "metadata": {},
   "outputs": [
    {
     "name": "stderr",
     "output_type": "stream",
     "text": [
      "/home/mariam/code/clacket/clacket/venv/lib/python3.6/site-packages/pandas/plotting/_core.py:1714: UserWarning: Pandas doesn't allow columns to be created via a new attribute name - see https://pandas.pydata.org/pandas-docs/stable/indexing.html#attribute-access\n",
      "  series.name = label\n"
     ]
    },
    {
     "data": {
      "image/png": "[encoded data removed]",
      "text/plain": [
       "<matplotlib.figure.Figure at 0x7fe35f722208>"
      ]
     },
     "metadata": {},
     "output_type": "display_data"
    },
    {
     "data": {
      "text/html": [
       "<div>\n",
       "<style scoped>\n",
       "    .dataframe tbody tr th:only-of-type {\n",
       "        vertical-align: middle;\n",
       "    }\n",
       "\n",
       "    .dataframe tbody tr th {\n",
       "        vertical-align: top;\n",
       "    }\n",
       "\n",
       "    .dataframe thead th {\n",
       "        text-align: right;\n",
       "    }\n",
       "</style>\n",
       "<table border=\"1\" class=\"dataframe\">\n",
       "  <thead>\n",
       "    <tr style=\"text-align: right;\">\n",
       "      <th></th>\n",
       "      <th>k</th>\n",
       "      <th>mean_absolute_error</th>\n",
       "      <th>perc_hits_3</th>\n",
       "      <th>perc_hits_4</th>\n",
       "      <th>perc_misses_3</th>\n",
       "      <th>perc_misses_4</th>\n",
       "      <th>total_hits_3</th>\n",
       "      <th>total_hits_4</th>\n",
       "      <th>total_misses_3</th>\n",
       "      <th>total_misses_4</th>\n",
       "    </tr>\n",
       "  </thead>\n",
       "  <tbody>\n",
       "    <tr>\n",
       "      <th>0</th>\n",
       "      <td>1</td>\n",
       "      <td>0.621813</td>\n",
       "      <td>92.896185</td>\n",
       "      <td>72.595214</td>\n",
       "      <td>7.103815</td>\n",
       "      <td>27.404786</td>\n",
       "      <td>1193938</td>\n",
       "      <td>933022</td>\n",
       "      <td>91301</td>\n",
       "      <td>352217</td>\n",
       "    </tr>\n",
       "    <tr>\n",
       "      <th>1</th>\n",
       "      <td>2</td>\n",
       "      <td>0.703641</td>\n",
       "      <td>91.854843</td>\n",
       "      <td>68.741113</td>\n",
       "      <td>8.145157</td>\n",
       "      <td>31.258887</td>\n",
       "      <td>1943090</td>\n",
       "      <td>1454144</td>\n",
       "      <td>172302</td>\n",
       "      <td>661248</td>\n",
       "    </tr>\n",
       "    <tr>\n",
       "      <th>2</th>\n",
       "      <td>3</td>\n",
       "      <td>0.734602</td>\n",
       "      <td>91.279091</td>\n",
       "      <td>66.967245</td>\n",
       "      <td>8.720909</td>\n",
       "      <td>33.032755</td>\n",
       "      <td>2529842</td>\n",
       "      <td>1856028</td>\n",
       "      <td>241704</td>\n",
       "      <td>915518</td>\n",
       "    </tr>\n",
       "    <tr>\n",
       "      <th>3</th>\n",
       "      <td>4</td>\n",
       "      <td>0.762192</td>\n",
       "      <td>90.818529</td>\n",
       "      <td>65.703862</td>\n",
       "      <td>9.181471</td>\n",
       "      <td>34.296138</td>\n",
       "      <td>3404892</td>\n",
       "      <td>2463314</td>\n",
       "      <td>344224</td>\n",
       "      <td>1285802</td>\n",
       "    </tr>\n",
       "  </tbody>\n",
       "</table>\n",
       "</div>"
      ],
      "text/plain": [
       "   k  mean_absolute_error  perc_hits_3  perc_hits_4  perc_misses_3  \\\n",
       "0  1             0.621813    92.896185    72.595214       7.103815   \n",
       "1  2             0.703641    91.854843    68.741113       8.145157   \n",
       "2  3             0.734602    91.279091    66.967245       8.720909   \n",
       "3  4             0.762192    90.818529    65.703862       9.181471   \n",
       "\n",
       "   perc_misses_4  total_hits_3  total_hits_4  total_misses_3  total_misses_4  \n",
       "0      27.404786       1193938        933022           91301          352217  \n",
       "1      31.258887       1943090       1454144          172302          661248  \n",
       "2      33.032755       2529842       1856028          241704          915518  \n",
       "3      34.296138       3404892       2463314          344224         1285802  "
      ]
     },
     "execution_count": 13,
     "metadata": {},
     "output_type": "execute_result"
    }
   ],
   "source": [
    "# plot(df4, '30%')\n",
    "# df4"
   ]
  },
  {
   "cell_type": "code",
   "execution_count": 17,
   "metadata": {},
   "outputs": [
    {
     "name": "stdout",
     "output_type": "stream",
     "text": [
      "Testing predictions for movie_id=10894.. (for k=4)Done.\n"
     ]
    }
   ],
   "source": [
    "## since all are saved, run without calculating distances to get MAE for specific mins\n",
    "# df1_ = predict(t_set1, matrix, ks=[1,2,3,4], print_only=True)"
   ]
  },
  {
   "cell_type": "code",
   "execution_count": 18,
   "metadata": {},
   "outputs": [
    {
     "name": "stdout",
     "output_type": "stream",
     "text": [
      "Testing predictions for movie_id=7435.. (for k=4))Done.\n"
     ]
    }
   ],
   "source": [
    "# df2_ = predict(t_set2, matrix, ks=[1,2,3,4], print_only=True)"
   ]
  },
  {
   "cell_type": "code",
   "execution_count": 19,
   "metadata": {},
   "outputs": [
    {
     "name": "stdout",
     "output_type": "stream",
     "text": [
      "Testing predictions for movie_id=4774.. (for k=4))Done.\n"
     ]
    }
   ],
   "source": [
    "# df3_ = predict(t_set3, matrix, ks=[1,2,3,4], print_only=True)"
   ]
  },
  {
   "cell_type": "code",
   "execution_count": 20,
   "metadata": {},
   "outputs": [
    {
     "name": "stdout",
     "output_type": "stream",
     "text": [
      "Testing predictions for movie_id=8427.. (for k=4))Done.\n"
     ]
    }
   ],
   "source": [
    "# df4_ = predict(t_set4, matrix, ks=[1,2,3,4], print_only=True)"
   ]
  },
  {
   "cell_type": "code",
   "execution_count": 22,
   "metadata": {},
   "outputs": [
    {
     "name": "stderr",
     "output_type": "stream",
     "text": [
      "/home/mariam/code/clacket/clacket/venv/lib/python3.6/site-packages/pandas/plotting/_core.py:1714: UserWarning: Pandas doesn't allow columns to be created via a new attribute name - see https://pandas.pydata.org/pandas-docs/stable/indexing.html#attribute-access\n",
      "  series.name = label\n"
     ]
    },
    {
     "data": {
      "image/png": "[encoded data removed]",
      "text/plain": [
       "<matplotlib.figure.Figure at 0x7fe27a117eb8>"
      ]
     },
     "metadata": {},
     "output_type": "display_data"
    },
    {
     "data": {
      "text/html": [
       "<div>\n",
       "<style scoped>\n",
       "    .dataframe tbody tr th:only-of-type {\n",
       "        vertical-align: middle;\n",
       "    }\n",
       "\n",
       "    .dataframe tbody tr th {\n",
       "        vertical-align: top;\n",
       "    }\n",
       "\n",
       "    .dataframe thead th {\n",
       "        text-align: right;\n",
       "    }\n",
       "</style>\n",
       "<table border=\"1\" class=\"dataframe\">\n",
       "  <thead>\n",
       "    <tr style=\"text-align: right;\">\n",
       "      <th></th>\n",
       "      <th>k</th>\n",
       "      <th>mean_absolute_error</th>\n",
       "      <th>perc_hits_3</th>\n",
       "      <th>perc_hits_4</th>\n",
       "      <th>perc_misses_3</th>\n",
       "      <th>perc_misses_4</th>\n",
       "      <th>total_hits_3</th>\n",
       "      <th>total_hits_4</th>\n",
       "      <th>total_misses_3</th>\n",
       "      <th>total_misses_4</th>\n",
       "    </tr>\n",
       "  </thead>\n",
       "  <tbody>\n",
       "    <tr>\n",
       "      <th>0</th>\n",
       "      <td>1</td>\n",
       "      <td>0.061351</td>\n",
       "      <td>99.393912</td>\n",
       "      <td>97.516274</td>\n",
       "      <td>0.606088</td>\n",
       "      <td>2.483726</td>\n",
       "      <td>11199698</td>\n",
       "      <td>10988126</td>\n",
       "      <td>68294</td>\n",
       "      <td>279866</td>\n",
       "    </tr>\n",
       "    <tr>\n",
       "      <th>1</th>\n",
       "      <td>2</td>\n",
       "      <td>0.171410</td>\n",
       "      <td>98.317247</td>\n",
       "      <td>92.526383</td>\n",
       "      <td>1.682753</td>\n",
       "      <td>7.473617</td>\n",
       "      <td>12690337</td>\n",
       "      <td>11942879</td>\n",
       "      <td>217202</td>\n",
       "      <td>964660</td>\n",
       "    </tr>\n",
       "    <tr>\n",
       "      <th>2</th>\n",
       "      <td>3</td>\n",
       "      <td>0.263819</td>\n",
       "      <td>97.307834</td>\n",
       "      <td>88.194483</td>\n",
       "      <td>2.692166</td>\n",
       "      <td>11.805517</td>\n",
       "      <td>14398646</td>\n",
       "      <td>13050143</td>\n",
       "      <td>398360</td>\n",
       "      <td>1746863</td>\n",
       "    </tr>\n",
       "    <tr>\n",
       "      <th>3</th>\n",
       "      <td>4</td>\n",
       "      <td>0.341101</td>\n",
       "      <td>96.386327</td>\n",
       "      <td>84.523295</td>\n",
       "      <td>3.613673</td>\n",
       "      <td>15.476705</td>\n",
       "      <td>16343309</td>\n",
       "      <td>14331808</td>\n",
       "      <td>612736</td>\n",
       "      <td>2624237</td>\n",
       "    </tr>\n",
       "  </tbody>\n",
       "</table>\n",
       "</div>"
      ],
      "text/plain": [
       "   k  mean_absolute_error  perc_hits_3  perc_hits_4  perc_misses_3  \\\n",
       "0  1             0.061351    99.393912    97.516274       0.606088   \n",
       "1  2             0.171410    98.317247    92.526383       1.682753   \n",
       "2  3             0.263819    97.307834    88.194483       2.692166   \n",
       "3  4             0.341101    96.386327    84.523295       3.613673   \n",
       "\n",
       "   perc_misses_4  total_hits_3  total_hits_4  total_misses_3  total_misses_4  \n",
       "0       2.483726      11199698      10988126           68294          279866  \n",
       "1       7.473617      12690337      11942879          217202          964660  \n",
       "2      11.805517      14398646      13050143          398360         1746863  \n",
       "3      15.476705      16343309      14331808          612736         2624237  "
      ]
     },
     "execution_count": 22,
     "metadata": {},
     "output_type": "execute_result"
    }
   ],
   "source": [
    "# plot(df1_, '100%', prefix='new')\n",
    "# df1_"
   ]
  },
  {
   "cell_type": "code",
   "execution_count": 23,
   "metadata": {},
   "outputs": [
    {
     "name": "stderr",
     "output_type": "stream",
     "text": [
      "/home/mariam/code/clacket/clacket/venv/lib/python3.6/site-packages/pandas/plotting/_core.py:1714: UserWarning: Pandas doesn't allow columns to be created via a new attribute name - see https://pandas.pydata.org/pandas-docs/stable/indexing.html#attribute-access\n",
      "  series.name = label\n"
     ]
    },
    {
     "data": {
      "image/png": "[encoded data removed]",
      "text/plain": [
       "<matplotlib.figure.Figure at 0x7fe27bd58f28>"
      ]
     },
     "metadata": {},
     "output_type": "display_data"
    },
    {
     "data": {
      "text/html": [
       "<div>\n",
       "<style scoped>\n",
       "    .dataframe tbody tr th:only-of-type {\n",
       "        vertical-align: middle;\n",
       "    }\n",
       "\n",
       "    .dataframe tbody tr th {\n",
       "        vertical-align: top;\n",
       "    }\n",
       "\n",
       "    .dataframe thead th {\n",
       "        text-align: right;\n",
       "    }\n",
       "</style>\n",
       "<table border=\"1\" class=\"dataframe\">\n",
       "  <thead>\n",
       "    <tr style=\"text-align: right;\">\n",
       "      <th></th>\n",
       "      <th>k</th>\n",
       "      <th>mean_absolute_error</th>\n",
       "      <th>perc_hits_3</th>\n",
       "      <th>perc_hits_4</th>\n",
       "      <th>perc_misses_3</th>\n",
       "      <th>perc_misses_4</th>\n",
       "      <th>total_hits_3</th>\n",
       "      <th>total_hits_4</th>\n",
       "      <th>total_misses_3</th>\n",
       "      <th>total_misses_4</th>\n",
       "    </tr>\n",
       "  </thead>\n",
       "  <tbody>\n",
       "    <tr>\n",
       "      <th>0</th>\n",
       "      <td>1</td>\n",
       "      <td>0.160895</td>\n",
       "      <td>98.385255</td>\n",
       "      <td>93.526639</td>\n",
       "      <td>1.614745</td>\n",
       "      <td>6.473361</td>\n",
       "      <td>3995377</td>\n",
       "      <td>3798071</td>\n",
       "      <td>65574</td>\n",
       "      <td>262880</td>\n",
       "    </tr>\n",
       "    <tr>\n",
       "      <th>1</th>\n",
       "      <td>2</td>\n",
       "      <td>0.347770</td>\n",
       "      <td>96.382824</td>\n",
       "      <td>84.871169</td>\n",
       "      <td>3.617176</td>\n",
       "      <td>15.128831</td>\n",
       "      <td>5323527</td>\n",
       "      <td>4687702</td>\n",
       "      <td>199788</td>\n",
       "      <td>835613</td>\n",
       "    </tr>\n",
       "    <tr>\n",
       "      <th>2</th>\n",
       "      <td>3</td>\n",
       "      <td>0.475052</td>\n",
       "      <td>94.847805</td>\n",
       "      <td>78.886445</td>\n",
       "      <td>5.152195</td>\n",
       "      <td>21.113555</td>\n",
       "      <td>7043674</td>\n",
       "      <td>5858337</td>\n",
       "      <td>382617</td>\n",
       "      <td>1567954</td>\n",
       "    </tr>\n",
       "    <tr>\n",
       "      <th>3</th>\n",
       "      <td>4</td>\n",
       "      <td>0.547040</td>\n",
       "      <td>93.839185</td>\n",
       "      <td>75.221076</td>\n",
       "      <td>6.160815</td>\n",
       "      <td>24.778924</td>\n",
       "      <td>8520400</td>\n",
       "      <td>6829915</td>\n",
       "      <td>559389</td>\n",
       "      <td>2249874</td>\n",
       "    </tr>\n",
       "  </tbody>\n",
       "</table>\n",
       "</div>"
      ],
      "text/plain": [
       "   k  mean_absolute_error  perc_hits_3  perc_hits_4  perc_misses_3  \\\n",
       "0  1             0.160895    98.385255    93.526639       1.614745   \n",
       "1  2             0.347770    96.382824    84.871169       3.617176   \n",
       "2  3             0.475052    94.847805    78.886445       5.152195   \n",
       "3  4             0.547040    93.839185    75.221076       6.160815   \n",
       "\n",
       "   perc_misses_4  total_hits_3  total_hits_4  total_misses_3  total_misses_4  \n",
       "0       6.473361       3995377       3798071           65574          262880  \n",
       "1      15.128831       5323527       4687702          199788          835613  \n",
       "2      21.113555       7043674       5858337          382617         1567954  \n",
       "3      24.778924       8520400       6829915          559389         2249874  "
      ]
     },
     "execution_count": 23,
     "metadata": {},
     "output_type": "execute_result"
    }
   ],
   "source": [
    "plot(df2_, '70%', prefix='new')\n",
    "df1_"
   ]
  },
  {
   "cell_type": "code",
   "execution_count": 24,
   "metadata": {},
   "outputs": [
    {
     "name": "stderr",
     "output_type": "stream",
     "text": [
      "/home/mariam/code/clacket/clacket/venv/lib/python3.6/site-packages/pandas/plotting/_core.py:1714: UserWarning: Pandas doesn't allow columns to be created via a new attribute name - see https://pandas.pydata.org/pandas-docs/stable/indexing.html#attribute-access\n",
      "  series.name = label\n"
     ]
    },
    {
     "data": {
      "image/png": "[encoded data removed]",
      "text/plain": [
       "<matplotlib.figure.Figure at 0x7fe2772d31d0>"
      ]
     },
     "metadata": {},
     "output_type": "display_data"
    },
    {
     "data": {
      "text/html": [
       "<div>\n",
       "<style scoped>\n",
       "    .dataframe tbody tr th:only-of-type {\n",
       "        vertical-align: middle;\n",
       "    }\n",
       "\n",
       "    .dataframe tbody tr th {\n",
       "        vertical-align: top;\n",
       "    }\n",
       "\n",
       "    .dataframe thead th {\n",
       "        text-align: right;\n",
       "    }\n",
       "</style>\n",
       "<table border=\"1\" class=\"dataframe\">\n",
       "  <thead>\n",
       "    <tr style=\"text-align: right;\">\n",
       "      <th></th>\n",
       "      <th>k</th>\n",
       "      <th>mean_absolute_error</th>\n",
       "      <th>perc_hits_3</th>\n",
       "      <th>perc_hits_4</th>\n",
       "      <th>perc_misses_3</th>\n",
       "      <th>perc_misses_4</th>\n",
       "      <th>total_hits_3</th>\n",
       "      <th>total_hits_4</th>\n",
       "      <th>total_misses_3</th>\n",
       "      <th>total_misses_4</th>\n",
       "    </tr>\n",
       "  </thead>\n",
       "  <tbody>\n",
       "    <tr>\n",
       "      <th>0</th>\n",
       "      <td>1</td>\n",
       "      <td>0.155932</td>\n",
       "      <td>98.373699</td>\n",
       "      <td>93.285899</td>\n",
       "      <td>1.626301</td>\n",
       "      <td>6.714101</td>\n",
       "      <td>4586718</td>\n",
       "      <td>4349497</td>\n",
       "      <td>75827</td>\n",
       "      <td>313048</td>\n",
       "    </tr>\n",
       "    <tr>\n",
       "      <th>1</th>\n",
       "      <td>2</td>\n",
       "      <td>0.272065</td>\n",
       "      <td>97.088543</td>\n",
       "      <td>88.082030</td>\n",
       "      <td>2.911457</td>\n",
       "      <td>11.917970</td>\n",
       "      <td>5446210</td>\n",
       "      <td>4940987</td>\n",
       "      <td>163319</td>\n",
       "      <td>668542</td>\n",
       "    </tr>\n",
       "    <tr>\n",
       "      <th>2</th>\n",
       "      <td>3</td>\n",
       "      <td>0.358565</td>\n",
       "      <td>96.054001</td>\n",
       "      <td>83.878653</td>\n",
       "      <td>3.945999</td>\n",
       "      <td>16.121347</td>\n",
       "      <td>6290809</td>\n",
       "      <td>5493416</td>\n",
       "      <td>258433</td>\n",
       "      <td>1055826</td>\n",
       "    </tr>\n",
       "    <tr>\n",
       "      <th>3</th>\n",
       "      <td>4</td>\n",
       "      <td>0.433844</td>\n",
       "      <td>95.144237</td>\n",
       "      <td>80.258524</td>\n",
       "      <td>4.855763</td>\n",
       "      <td>19.741476</td>\n",
       "      <td>7207548</td>\n",
       "      <td>6079897</td>\n",
       "      <td>367843</td>\n",
       "      <td>1495494</td>\n",
       "    </tr>\n",
       "  </tbody>\n",
       "</table>\n",
       "</div>"
      ],
      "text/plain": [
       "   k  mean_absolute_error  perc_hits_3  perc_hits_4  perc_misses_3  \\\n",
       "0  1             0.155932    98.373699    93.285899       1.626301   \n",
       "1  2             0.272065    97.088543    88.082030       2.911457   \n",
       "2  3             0.358565    96.054001    83.878653       3.945999   \n",
       "3  4             0.433844    95.144237    80.258524       4.855763   \n",
       "\n",
       "   perc_misses_4  total_hits_3  total_hits_4  total_misses_3  total_misses_4  \n",
       "0       6.714101       4586718       4349497           75827          313048  \n",
       "1      11.917970       5446210       4940987          163319          668542  \n",
       "2      16.121347       6290809       5493416          258433         1055826  \n",
       "3      19.741476       7207548       6079897          367843         1495494  "
      ]
     },
     "execution_count": 24,
     "metadata": {},
     "output_type": "execute_result"
    }
   ],
   "source": [
    "plot(df3_, '50%', prefix='new')\n",
    "df3_"
   ]
  },
  {
   "cell_type": "code",
   "execution_count": 25,
   "metadata": {},
   "outputs": [
    {
     "name": "stderr",
     "output_type": "stream",
     "text": [
      "/home/mariam/code/clacket/clacket/venv/lib/python3.6/site-packages/pandas/plotting/_core.py:1714: UserWarning: Pandas doesn't allow columns to be created via a new attribute name - see https://pandas.pydata.org/pandas-docs/stable/indexing.html#attribute-access\n",
      "  series.name = label\n"
     ]
    },
    {
     "data": {
      "image/png": "[encoded data removed]",
      "text/plain": [
       "<matplotlib.figure.Figure at 0x7fe27bd65ac8>"
      ]
     },
     "metadata": {},
     "output_type": "display_data"
    },
    {
     "data": {
      "text/html": [
       "<div>\n",
       "<style scoped>\n",
       "    .dataframe tbody tr th:only-of-type {\n",
       "        vertical-align: middle;\n",
       "    }\n",
       "\n",
       "    .dataframe tbody tr th {\n",
       "        vertical-align: top;\n",
       "    }\n",
       "\n",
       "    .dataframe thead th {\n",
       "        text-align: right;\n",
       "    }\n",
       "</style>\n",
       "<table border=\"1\" class=\"dataframe\">\n",
       "  <thead>\n",
       "    <tr style=\"text-align: right;\">\n",
       "      <th></th>\n",
       "      <th>k</th>\n",
       "      <th>mean_absolute_error</th>\n",
       "      <th>perc_hits_3</th>\n",
       "      <th>perc_hits_4</th>\n",
       "      <th>perc_misses_3</th>\n",
       "      <th>perc_misses_4</th>\n",
       "      <th>total_hits_3</th>\n",
       "      <th>total_hits_4</th>\n",
       "      <th>total_misses_3</th>\n",
       "      <th>total_misses_4</th>\n",
       "    </tr>\n",
       "  </thead>\n",
       "  <tbody>\n",
       "    <tr>\n",
       "      <th>0</th>\n",
       "      <td>1</td>\n",
       "      <td>0.621813</td>\n",
       "      <td>92.896185</td>\n",
       "      <td>72.595214</td>\n",
       "      <td>7.103815</td>\n",
       "      <td>27.404786</td>\n",
       "      <td>1193938</td>\n",
       "      <td>933022</td>\n",
       "      <td>91301</td>\n",
       "      <td>352217</td>\n",
       "    </tr>\n",
       "    <tr>\n",
       "      <th>1</th>\n",
       "      <td>2</td>\n",
       "      <td>0.703641</td>\n",
       "      <td>91.854843</td>\n",
       "      <td>68.741113</td>\n",
       "      <td>8.145157</td>\n",
       "      <td>31.258887</td>\n",
       "      <td>1943090</td>\n",
       "      <td>1454144</td>\n",
       "      <td>172302</td>\n",
       "      <td>661248</td>\n",
       "    </tr>\n",
       "    <tr>\n",
       "      <th>2</th>\n",
       "      <td>3</td>\n",
       "      <td>0.734602</td>\n",
       "      <td>91.279091</td>\n",
       "      <td>66.967245</td>\n",
       "      <td>8.720909</td>\n",
       "      <td>33.032755</td>\n",
       "      <td>2529842</td>\n",
       "      <td>1856028</td>\n",
       "      <td>241704</td>\n",
       "      <td>915518</td>\n",
       "    </tr>\n",
       "    <tr>\n",
       "      <th>3</th>\n",
       "      <td>4</td>\n",
       "      <td>0.762192</td>\n",
       "      <td>90.818529</td>\n",
       "      <td>65.703862</td>\n",
       "      <td>9.181471</td>\n",
       "      <td>34.296138</td>\n",
       "      <td>3404892</td>\n",
       "      <td>2463314</td>\n",
       "      <td>344224</td>\n",
       "      <td>1285802</td>\n",
       "    </tr>\n",
       "  </tbody>\n",
       "</table>\n",
       "</div>"
      ],
      "text/plain": [
       "   k  mean_absolute_error  perc_hits_3  perc_hits_4  perc_misses_3  \\\n",
       "0  1             0.621813    92.896185    72.595214       7.103815   \n",
       "1  2             0.703641    91.854843    68.741113       8.145157   \n",
       "2  3             0.734602    91.279091    66.967245       8.720909   \n",
       "3  4             0.762192    90.818529    65.703862       9.181471   \n",
       "\n",
       "   perc_misses_4  total_hits_3  total_hits_4  total_misses_3  total_misses_4  \n",
       "0      27.404786       1193938        933022           91301          352217  \n",
       "1      31.258887       1943090       1454144          172302          661248  \n",
       "2      33.032755       2529842       1856028          241704          915518  \n",
       "3      34.296138       3404892       2463314          344224         1285802  "
      ]
     },
     "execution_count": 25,
     "metadata": {},
     "output_type": "execute_result"
    }
   ],
   "source": [
    "plot(df4_, '30%', prefix='new')\n",
    "df4_"
   ]
  },
  {
   "cell_type": "code",
   "execution_count": 33,
   "metadata": {},
   "outputs": [
    {
     "name": "stdout",
     "output_type": "stream",
     "text": [
      "Testing predictions for movie_id=17405.. (for k=4)Done.\n"
     ]
    }
   ],
   "source": [
    "start2, end2 = 2005, 2005\n",
    "pool2, test2 = cronological_set(start2, end2)\n",
    "df2c = predict(pool2, test2, matrix, ks=[1,2,3,4], mins=[3,4,5], cronological=True, start=start2, end=end2)"
   ]
  },
  {
   "cell_type": "code",
   "execution_count": 34,
   "metadata": {},
   "outputs": [
    {
     "name": "stderr",
     "output_type": "stream",
     "text": [
      "/home/mariam/code/clacket/clacket/venv/lib/python3.6/site-packages/pandas/plotting/_core.py:1714: UserWarning: Pandas doesn't allow columns to be created via a new attribute name - see https://pandas.pydata.org/pandas-docs/stable/indexing.html#attribute-access\n",
      "  series.name = label\n"
     ]
    },
    {
     "data": {
      "image/png": "[encoded data removed]",
      "text/plain": [
       "<matplotlib.figure.Figure at 0x7f5386714e80>"
      ]
     },
     "metadata": {},
     "output_type": "display_data"
    },
    {
     "data": {
      "text/html": [
       "<div>\n",
       "<style scoped>\n",
       "    .dataframe tbody tr th:only-of-type {\n",
       "        vertical-align: middle;\n",
       "    }\n",
       "\n",
       "    .dataframe tbody tr th {\n",
       "        vertical-align: top;\n",
       "    }\n",
       "\n",
       "    .dataframe thead th {\n",
       "        text-align: right;\n",
       "    }\n",
       "</style>\n",
       "<table border=\"1\" class=\"dataframe\">\n",
       "  <thead>\n",
       "    <tr style=\"text-align: right;\">\n",
       "      <th></th>\n",
       "      <th>k</th>\n",
       "      <th>mean_absolute_error_3</th>\n",
       "      <th>mean_absolute_error_4</th>\n",
       "      <th>mean_absolute_error_5</th>\n",
       "      <th>perc_hits_3</th>\n",
       "      <th>perc_hits_4</th>\n",
       "      <th>perc_hits_5</th>\n",
       "      <th>perc_misses_3</th>\n",
       "      <th>perc_misses_4</th>\n",
       "      <th>perc_misses_5</th>\n",
       "      <th>rmse_3</th>\n",
       "      <th>rmse_4</th>\n",
       "      <th>rmse_5</th>\n",
       "      <th>total_hits_3</th>\n",
       "      <th>total_hits_4</th>\n",
       "      <th>total_hits_5</th>\n",
       "      <th>total_misses_3</th>\n",
       "      <th>total_misses_4</th>\n",
       "      <th>total_misses_5</th>\n",
       "    </tr>\n",
       "  </thead>\n",
       "  <tbody>\n",
       "    <tr>\n",
       "      <th>0</th>\n",
       "      <td>1</td>\n",
       "      <td>0.858263</td>\n",
       "      <td>0.812808</td>\n",
       "      <td>1.134615</td>\n",
       "      <td>85.714286</td>\n",
       "      <td>63.546798</td>\n",
       "      <td>42.307692</td>\n",
       "      <td>14.285714</td>\n",
       "      <td>36.453202</td>\n",
       "      <td>57.692308</td>\n",
       "      <td>1.662921</td>\n",
       "      <td>1.662921</td>\n",
       "      <td>1.662921</td>\n",
       "      <td>1530</td>\n",
       "      <td>258</td>\n",
       "      <td>22</td>\n",
       "      <td>255</td>\n",
       "      <td>148</td>\n",
       "      <td>30</td>\n",
       "    </tr>\n",
       "    <tr>\n",
       "      <th>1</th>\n",
       "      <td>2</td>\n",
       "      <td>0.860475</td>\n",
       "      <td>0.821229</td>\n",
       "      <td>0.984848</td>\n",
       "      <td>84.714702</td>\n",
       "      <td>61.638734</td>\n",
       "      <td>48.484848</td>\n",
       "      <td>15.285298</td>\n",
       "      <td>38.361266</td>\n",
       "      <td>51.515152</td>\n",
       "      <td>1.636469</td>\n",
       "      <td>1.636469</td>\n",
       "      <td>1.636469</td>\n",
       "      <td>2034</td>\n",
       "      <td>331</td>\n",
       "      <td>32</td>\n",
       "      <td>367</td>\n",
       "      <td>206</td>\n",
       "      <td>34</td>\n",
       "    </tr>\n",
       "    <tr>\n",
       "      <th>2</th>\n",
       "      <td>3</td>\n",
       "      <td>0.890231</td>\n",
       "      <td>0.839406</td>\n",
       "      <td>0.960784</td>\n",
       "      <td>83.374778</td>\n",
       "      <td>65.317139</td>\n",
       "      <td>46.405229</td>\n",
       "      <td>16.625222</td>\n",
       "      <td>34.682861</td>\n",
       "      <td>53.594771</td>\n",
       "      <td>1.631768</td>\n",
       "      <td>1.631768</td>\n",
       "      <td>1.631768</td>\n",
       "      <td>2347</td>\n",
       "      <td>484</td>\n",
       "      <td>71</td>\n",
       "      <td>468</td>\n",
       "      <td>257</td>\n",
       "      <td>82</td>\n",
       "    </tr>\n",
       "    <tr>\n",
       "      <th>3</th>\n",
       "      <td>4</td>\n",
       "      <td>0.905530</td>\n",
       "      <td>0.848635</td>\n",
       "      <td>0.994444</td>\n",
       "      <td>82.916392</td>\n",
       "      <td>64.764268</td>\n",
       "      <td>45.000000</td>\n",
       "      <td>17.083608</td>\n",
       "      <td>35.235732</td>\n",
       "      <td>55.000000</td>\n",
       "      <td>1.630931</td>\n",
       "      <td>1.630931</td>\n",
       "      <td>1.630931</td>\n",
       "      <td>2519</td>\n",
       "      <td>522</td>\n",
       "      <td>81</td>\n",
       "      <td>519</td>\n",
       "      <td>284</td>\n",
       "      <td>99</td>\n",
       "    </tr>\n",
       "  </tbody>\n",
       "</table>\n",
       "</div>"
      ],
      "text/plain": [
       "   k  mean_absolute_error_3  mean_absolute_error_4  mean_absolute_error_5  \\\n",
       "0  1               0.858263               0.812808               1.134615   \n",
       "1  2               0.860475               0.821229               0.984848   \n",
       "2  3               0.890231               0.839406               0.960784   \n",
       "3  4               0.905530               0.848635               0.994444   \n",
       "\n",
       "   perc_hits_3  perc_hits_4  perc_hits_5  perc_misses_3  perc_misses_4  \\\n",
       "0    85.714286    63.546798    42.307692      14.285714      36.453202   \n",
       "1    84.714702    61.638734    48.484848      15.285298      38.361266   \n",
       "2    83.374778    65.317139    46.405229      16.625222      34.682861   \n",
       "3    82.916392    64.764268    45.000000      17.083608      35.235732   \n",
       "\n",
       "   perc_misses_5    rmse_3    rmse_4    rmse_5  total_hits_3  total_hits_4  \\\n",
       "0      57.692308  1.662921  1.662921  1.662921          1530           258   \n",
       "1      51.515152  1.636469  1.636469  1.636469          2034           331   \n",
       "2      53.594771  1.631768  1.631768  1.631768          2347           484   \n",
       "3      55.000000  1.630931  1.630931  1.630931          2519           522   \n",
       "\n",
       "   total_hits_5  total_misses_3  total_misses_4  total_misses_5  \n",
       "0            22             255             148              30  \n",
       "1            32             367             206              34  \n",
       "2            71             468             257              82  \n",
       "3            81             519             284              99  "
      ]
     },
     "execution_count": 34,
     "metadata": {},
     "output_type": "execute_result"
    }
   ],
   "source": [
    "plot(df2c, '2005 ', y=['perc_hits_3', 'perc_hits_4', 'perc_hits_5'])\n",
    "df2c"
   ]
  },
  {
   "cell_type": "code",
   "execution_count": 35,
   "metadata": {},
   "outputs": [
    {
     "name": "stdout",
     "output_type": "stream",
     "text": [
      "Testing predictions for movie_id=14073.. (for k=4)Done.\n"
     ]
    }
   ],
   "source": [
    "start3, end3 = 2000, 2006\n",
    "pool3, test3 = cronological_set(start3, end3)\n",
    "df3c = predict(pool3, test3, matrix, ks=[1,2,3,4], mins=[3,4,5], cronological=True, start=start3, end=end3)"
   ]
  },
  {
   "cell_type": "code",
   "execution_count": 36,
   "metadata": {},
   "outputs": [
    {
     "name": "stdout",
     "output_type": "stream",
     "text": [
      "Testing predictions for movie_id=14073.. (for k=4)Done.\n"
     ]
    }
   ],
   "source": [
    "start4, end4 = 2000, 2006\n",
    "pool4, test4 = cronological_set(start4, end4)\n",
    "df4c = predict(pool4, test4, matrix, ks=[1,2,3,4], mins=[3,4,5], cronological=True, start=start4, end=end4, predicted_type='max')"
   ]
  },
  {
   "cell_type": "code",
   "execution_count": 37,
   "metadata": {},
   "outputs": [
    {
     "name": "stdout",
     "output_type": "stream",
     "text": [
      "Testing predictions for movie_id=14073.. (for k=4)Done.\n"
     ]
    }
   ],
   "source": [
    "start5, end5 = 2000, 2006\n",
    "pool5, test5 = cronological_set(start5, end5)\n",
    "df5c = predict(pool5, test5, matrix, ks=[1,2,3,4], mins=[3,4,5], cronological=True, start=start5, end=end5, predicted_type='min')"
   ]
  },
  {
   "cell_type": "code",
   "execution_count": 38,
   "metadata": {},
   "outputs": [
    {
     "name": "stderr",
     "output_type": "stream",
     "text": [
      "/home/mariam/code/clacket/clacket/venv/lib/python3.6/site-packages/pandas/plotting/_core.py:1714: UserWarning: Pandas doesn't allow columns to be created via a new attribute name - see https://pandas.pydata.org/pandas-docs/stable/indexing.html#attribute-access\n",
      "  series.name = label\n"
     ]
    },
    {
     "data": {
      "image/png": "[encoded data removed]",
      "text/plain": [
       "<matplotlib.figure.Figure at 0x7f5389934fd0>"
      ]
     },
     "metadata": {},
     "output_type": "display_data"
    },
    {
     "data": {
      "text/html": [
       "<div>\n",
       "<style scoped>\n",
       "    .dataframe tbody tr th:only-of-type {\n",
       "        vertical-align: middle;\n",
       "    }\n",
       "\n",
       "    .dataframe tbody tr th {\n",
       "        vertical-align: top;\n",
       "    }\n",
       "\n",
       "    .dataframe thead th {\n",
       "        text-align: right;\n",
       "    }\n",
       "</style>\n",
       "<table border=\"1\" class=\"dataframe\">\n",
       "  <thead>\n",
       "    <tr style=\"text-align: right;\">\n",
       "      <th></th>\n",
       "      <th>k</th>\n",
       "      <th>mean_absolute_error_3</th>\n",
       "      <th>mean_absolute_error_4</th>\n",
       "      <th>mean_absolute_error_5</th>\n",
       "      <th>perc_hits_3</th>\n",
       "      <th>perc_hits_4</th>\n",
       "      <th>perc_hits_5</th>\n",
       "      <th>perc_misses_3</th>\n",
       "      <th>perc_misses_4</th>\n",
       "      <th>perc_misses_5</th>\n",
       "      <th>rmse_3</th>\n",
       "      <th>rmse_4</th>\n",
       "      <th>rmse_5</th>\n",
       "      <th>total_hits_3</th>\n",
       "      <th>total_hits_4</th>\n",
       "      <th>total_hits_5</th>\n",
       "      <th>total_misses_3</th>\n",
       "      <th>total_misses_4</th>\n",
       "      <th>total_misses_5</th>\n",
       "    </tr>\n",
       "  </thead>\n",
       "  <tbody>\n",
       "    <tr>\n",
       "      <th>0</th>\n",
       "      <td>1</td>\n",
       "      <td>0.966602</td>\n",
       "      <td>1.055098</td>\n",
       "      <td>1.311278</td>\n",
       "      <td>80.646796</td>\n",
       "      <td>53.074941</td>\n",
       "      <td>27.585072</td>\n",
       "      <td>19.353204</td>\n",
       "      <td>46.925059</td>\n",
       "      <td>72.414928</td>\n",
       "      <td>1.440896</td>\n",
       "      <td>1.440896</td>\n",
       "      <td>1.440896</td>\n",
       "      <td>71620</td>\n",
       "      <td>31509</td>\n",
       "      <td>6704</td>\n",
       "      <td>17187</td>\n",
       "      <td>27858</td>\n",
       "      <td>17599</td>\n",
       "    </tr>\n",
       "    <tr>\n",
       "      <th>1</th>\n",
       "      <td>2</td>\n",
       "      <td>0.978462</td>\n",
       "      <td>1.072189</td>\n",
       "      <td>1.327134</td>\n",
       "      <td>80.154582</td>\n",
       "      <td>52.344824</td>\n",
       "      <td>27.265199</td>\n",
       "      <td>19.845418</td>\n",
       "      <td>47.655176</td>\n",
       "      <td>72.734801</td>\n",
       "      <td>1.450948</td>\n",
       "      <td>1.450948</td>\n",
       "      <td>1.450948</td>\n",
       "      <td>86490</td>\n",
       "      <td>37325</td>\n",
       "      <td>7902</td>\n",
       "      <td>21414</td>\n",
       "      <td>33981</td>\n",
       "      <td>21080</td>\n",
       "    </tr>\n",
       "    <tr>\n",
       "      <th>2</th>\n",
       "      <td>3</td>\n",
       "      <td>0.981059</td>\n",
       "      <td>1.074124</td>\n",
       "      <td>1.327868</td>\n",
       "      <td>80.124622</td>\n",
       "      <td>52.351212</td>\n",
       "      <td>27.275189</td>\n",
       "      <td>19.875378</td>\n",
       "      <td>47.648788</td>\n",
       "      <td>72.724811</td>\n",
       "      <td>1.450599</td>\n",
       "      <td>1.450599</td>\n",
       "      <td>1.450599</td>\n",
       "      <td>98756</td>\n",
       "      <td>42750</td>\n",
       "      <td>9066</td>\n",
       "      <td>24497</td>\n",
       "      <td>38910</td>\n",
       "      <td>24173</td>\n",
       "    </tr>\n",
       "    <tr>\n",
       "      <th>3</th>\n",
       "      <td>4</td>\n",
       "      <td>0.951755</td>\n",
       "      <td>1.024593</td>\n",
       "      <td>1.214977</td>\n",
       "      <td>81.171924</td>\n",
       "      <td>55.169969</td>\n",
       "      <td>31.863032</td>\n",
       "      <td>18.828076</td>\n",
       "      <td>44.830031</td>\n",
       "      <td>68.136968</td>\n",
       "      <td>1.425957</td>\n",
       "      <td>1.425957</td>\n",
       "      <td>1.425957</td>\n",
       "      <td>112803</td>\n",
       "      <td>52145</td>\n",
       "      <td>13046</td>\n",
       "      <td>26165</td>\n",
       "      <td>42372</td>\n",
       "      <td>27898</td>\n",
       "    </tr>\n",
       "  </tbody>\n",
       "</table>\n",
       "</div>"
      ],
      "text/plain": [
       "   k  mean_absolute_error_3  mean_absolute_error_4  mean_absolute_error_5  \\\n",
       "0  1               0.966602               1.055098               1.311278   \n",
       "1  2               0.978462               1.072189               1.327134   \n",
       "2  3               0.981059               1.074124               1.327868   \n",
       "3  4               0.951755               1.024593               1.214977   \n",
       "\n",
       "   perc_hits_3  perc_hits_4  perc_hits_5  perc_misses_3  perc_misses_4  \\\n",
       "0    80.646796    53.074941    27.585072      19.353204      46.925059   \n",
       "1    80.154582    52.344824    27.265199      19.845418      47.655176   \n",
       "2    80.124622    52.351212    27.275189      19.875378      47.648788   \n",
       "3    81.171924    55.169969    31.863032      18.828076      44.830031   \n",
       "\n",
       "   perc_misses_5    rmse_3    rmse_4    rmse_5  total_hits_3  total_hits_4  \\\n",
       "0      72.414928  1.440896  1.440896  1.440896         71620         31509   \n",
       "1      72.734801  1.450948  1.450948  1.450948         86490         37325   \n",
       "2      72.724811  1.450599  1.450599  1.450599         98756         42750   \n",
       "3      68.136968  1.425957  1.425957  1.425957        112803         52145   \n",
       "\n",
       "   total_hits_5  total_misses_3  total_misses_4  total_misses_5  \n",
       "0          6704           17187           27858           17599  \n",
       "1          7902           21414           33981           21080  \n",
       "2          9066           24497           38910           24173  \n",
       "3         13046           26165           42372           27898  "
      ]
     },
     "execution_count": 38,
     "metadata": {},
     "output_type": "execute_result"
    }
   ],
   "source": [
    "plot(df3c, '2000-2006 (mean) ', y=['perc_hits_3', 'perc_hits_4', 'perc_hits_5'], prefix='mean')\n",
    "df3c"
   ]
  },
  {
   "cell_type": "code",
   "execution_count": 39,
   "metadata": {},
   "outputs": [
    {
     "name": "stderr",
     "output_type": "stream",
     "text": [
      "/home/mariam/code/clacket/clacket/venv/lib/python3.6/site-packages/pandas/plotting/_core.py:1714: UserWarning: Pandas doesn't allow columns to be created via a new attribute name - see https://pandas.pydata.org/pandas-docs/stable/indexing.html#attribute-access\n",
      "  series.name = label\n"
     ]
    },
    {
     "data": {
      "image/png": "[encoded data removed]",
      "text/plain": [
       "<matplotlib.figure.Figure at 0x7f53880ba780>"
      ]
     },
     "metadata": {},
     "output_type": "display_data"
    },
    {
     "data": {
      "text/html": [
       "<div>\n",
       "<style scoped>\n",
       "    .dataframe tbody tr th:only-of-type {\n",
       "        vertical-align: middle;\n",
       "    }\n",
       "\n",
       "    .dataframe tbody tr th {\n",
       "        vertical-align: top;\n",
       "    }\n",
       "\n",
       "    .dataframe thead th {\n",
       "        text-align: right;\n",
       "    }\n",
       "</style>\n",
       "<table border=\"1\" class=\"dataframe\">\n",
       "  <thead>\n",
       "    <tr style=\"text-align: right;\">\n",
       "      <th></th>\n",
       "      <th>k</th>\n",
       "      <th>mean_absolute_error_3</th>\n",
       "      <th>mean_absolute_error_4</th>\n",
       "      <th>mean_absolute_error_5</th>\n",
       "      <th>perc_hits_3</th>\n",
       "      <th>perc_hits_4</th>\n",
       "      <th>perc_hits_5</th>\n",
       "      <th>perc_misses_3</th>\n",
       "      <th>perc_misses_4</th>\n",
       "      <th>perc_misses_5</th>\n",
       "      <th>rmse_3</th>\n",
       "      <th>rmse_4</th>\n",
       "      <th>rmse_5</th>\n",
       "      <th>total_hits_3</th>\n",
       "      <th>total_hits_4</th>\n",
       "      <th>total_hits_5</th>\n",
       "      <th>total_misses_3</th>\n",
       "      <th>total_misses_4</th>\n",
       "      <th>total_misses_5</th>\n",
       "    </tr>\n",
       "  </thead>\n",
       "  <tbody>\n",
       "    <tr>\n",
       "      <th>0</th>\n",
       "      <td>1</td>\n",
       "      <td>0.966602</td>\n",
       "      <td>1.055098</td>\n",
       "      <td>1.311278</td>\n",
       "      <td>80.646796</td>\n",
       "      <td>53.074941</td>\n",
       "      <td>27.585072</td>\n",
       "      <td>19.353204</td>\n",
       "      <td>46.925059</td>\n",
       "      <td>72.414928</td>\n",
       "      <td>1.440896</td>\n",
       "      <td>1.440896</td>\n",
       "      <td>1.440896</td>\n",
       "      <td>71620</td>\n",
       "      <td>31509</td>\n",
       "      <td>6704</td>\n",
       "      <td>17187</td>\n",
       "      <td>27858</td>\n",
       "      <td>17599</td>\n",
       "    </tr>\n",
       "    <tr>\n",
       "      <th>1</th>\n",
       "      <td>2</td>\n",
       "      <td>0.980252</td>\n",
       "      <td>1.073133</td>\n",
       "      <td>1.327654</td>\n",
       "      <td>79.885179</td>\n",
       "      <td>52.325435</td>\n",
       "      <td>27.237367</td>\n",
       "      <td>20.114821</td>\n",
       "      <td>47.674565</td>\n",
       "      <td>72.762633</td>\n",
       "      <td>1.452957</td>\n",
       "      <td>1.452957</td>\n",
       "      <td>1.452957</td>\n",
       "      <td>86689</td>\n",
       "      <td>37341</td>\n",
       "      <td>7913</td>\n",
       "      <td>21828</td>\n",
       "      <td>34022</td>\n",
       "      <td>21139</td>\n",
       "    </tr>\n",
       "    <tr>\n",
       "      <th>2</th>\n",
       "      <td>3</td>\n",
       "      <td>0.984099</td>\n",
       "      <td>1.076885</td>\n",
       "      <td>1.329310</td>\n",
       "      <td>79.755080</td>\n",
       "      <td>52.309346</td>\n",
       "      <td>27.206829</td>\n",
       "      <td>20.244920</td>\n",
       "      <td>47.690654</td>\n",
       "      <td>72.793171</td>\n",
       "      <td>1.453988</td>\n",
       "      <td>1.453988</td>\n",
       "      <td>1.453988</td>\n",
       "      <td>99059</td>\n",
       "      <td>42822</td>\n",
       "      <td>9083</td>\n",
       "      <td>25145</td>\n",
       "      <td>39041</td>\n",
       "      <td>24302</td>\n",
       "    </tr>\n",
       "    <tr>\n",
       "      <th>3</th>\n",
       "      <td>4</td>\n",
       "      <td>0.955422</td>\n",
       "      <td>1.028053</td>\n",
       "      <td>1.216970</td>\n",
       "      <td>80.760998</td>\n",
       "      <td>55.125354</td>\n",
       "      <td>31.770593</td>\n",
       "      <td>19.239002</td>\n",
       "      <td>44.874646</td>\n",
       "      <td>68.229407</td>\n",
       "      <td>1.429821</td>\n",
       "      <td>1.429821</td>\n",
       "      <td>1.429821</td>\n",
       "      <td>113193</td>\n",
       "      <td>52309</td>\n",
       "      <td>13079</td>\n",
       "      <td>26965</td>\n",
       "      <td>42582</td>\n",
       "      <td>28088</td>\n",
       "    </tr>\n",
       "  </tbody>\n",
       "</table>\n",
       "</div>"
      ],
      "text/plain": [
       "   k  mean_absolute_error_3  mean_absolute_error_4  mean_absolute_error_5  \\\n",
       "0  1               0.966602               1.055098               1.311278   \n",
       "1  2               0.980252               1.073133               1.327654   \n",
       "2  3               0.984099               1.076885               1.329310   \n",
       "3  4               0.955422               1.028053               1.216970   \n",
       "\n",
       "   perc_hits_3  perc_hits_4  perc_hits_5  perc_misses_3  perc_misses_4  \\\n",
       "0    80.646796    53.074941    27.585072      19.353204      46.925059   \n",
       "1    79.885179    52.325435    27.237367      20.114821      47.674565   \n",
       "2    79.755080    52.309346    27.206829      20.244920      47.690654   \n",
       "3    80.760998    55.125354    31.770593      19.239002      44.874646   \n",
       "\n",
       "   perc_misses_5    rmse_3    rmse_4    rmse_5  total_hits_3  total_hits_4  \\\n",
       "0      72.414928  1.440896  1.440896  1.440896         71620         31509   \n",
       "1      72.762633  1.452957  1.452957  1.452957         86689         37341   \n",
       "2      72.793171  1.453988  1.453988  1.453988         99059         42822   \n",
       "3      68.229407  1.429821  1.429821  1.429821        113193         52309   \n",
       "\n",
       "   total_hits_5  total_misses_3  total_misses_4  total_misses_5  \n",
       "0          6704           17187           27858           17599  \n",
       "1          7913           21828           34022           21139  \n",
       "2          9083           25145           39041           24302  \n",
       "3         13079           26965           42582           28088  "
      ]
     },
     "execution_count": 39,
     "metadata": {},
     "output_type": "execute_result"
    }
   ],
   "source": [
    "plot(df4c, '2000-2006 (max) ', y=['perc_hits_3', 'perc_hits_4', 'perc_hits_5'], prefix='max')\n",
    "df4c"
   ]
  },
  {
   "cell_type": "code",
   "execution_count": 40,
   "metadata": {},
   "outputs": [
    {
     "name": "stderr",
     "output_type": "stream",
     "text": [
      "/home/mariam/code/clacket/clacket/venv/lib/python3.6/site-packages/pandas/plotting/_core.py:1714: UserWarning: Pandas doesn't allow columns to be created via a new attribute name - see https://pandas.pydata.org/pandas-docs/stable/indexing.html#attribute-access\n",
      "  series.name = label\n"
     ]
    },
    {
     "data": {
      "image/png": "[encoded data removed]",
      "text/plain": [
       "<matplotlib.figure.Figure at 0x7f538736e668>"
      ]
     },
     "metadata": {},
     "output_type": "display_data"
    },
    {
     "data": {
      "text/html": [
       "<div>\n",
       "<style scoped>\n",
       "    .dataframe tbody tr th:only-of-type {\n",
       "        vertical-align: middle;\n",
       "    }\n",
       "\n",
       "    .dataframe tbody tr th {\n",
       "        vertical-align: top;\n",
       "    }\n",
       "\n",
       "    .dataframe thead th {\n",
       "        text-align: right;\n",
       "    }\n",
       "</style>\n",
       "<table border=\"1\" class=\"dataframe\">\n",
       "  <thead>\n",
       "    <tr style=\"text-align: right;\">\n",
       "      <th></th>\n",
       "      <th>k</th>\n",
       "      <th>mean_absolute_error_3</th>\n",
       "      <th>mean_absolute_error_4</th>\n",
       "      <th>mean_absolute_error_5</th>\n",
       "      <th>perc_hits_3</th>\n",
       "      <th>perc_hits_4</th>\n",
       "      <th>perc_hits_5</th>\n",
       "      <th>perc_misses_3</th>\n",
       "      <th>perc_misses_4</th>\n",
       "      <th>perc_misses_5</th>\n",
       "      <th>rmse_3</th>\n",
       "      <th>rmse_4</th>\n",
       "      <th>rmse_5</th>\n",
       "      <th>total_hits_3</th>\n",
       "      <th>total_hits_4</th>\n",
       "      <th>total_hits_5</th>\n",
       "      <th>total_misses_3</th>\n",
       "      <th>total_misses_4</th>\n",
       "      <th>total_misses_5</th>\n",
       "    </tr>\n",
       "  </thead>\n",
       "  <tbody>\n",
       "    <tr>\n",
       "      <th>0</th>\n",
       "      <td>1</td>\n",
       "      <td>0.966602</td>\n",
       "      <td>1.055098</td>\n",
       "      <td>1.311278</td>\n",
       "      <td>80.646796</td>\n",
       "      <td>53.074941</td>\n",
       "      <td>27.585072</td>\n",
       "      <td>19.353204</td>\n",
       "      <td>46.925059</td>\n",
       "      <td>72.414928</td>\n",
       "      <td>1.440896</td>\n",
       "      <td>1.440896</td>\n",
       "      <td>1.440896</td>\n",
       "      <td>71620</td>\n",
       "      <td>31509</td>\n",
       "      <td>6704</td>\n",
       "      <td>17187</td>\n",
       "      <td>27858</td>\n",
       "      <td>17599</td>\n",
       "    </tr>\n",
       "    <tr>\n",
       "      <th>1</th>\n",
       "      <td>2</td>\n",
       "      <td>0.978246</td>\n",
       "      <td>1.072270</td>\n",
       "      <td>1.327134</td>\n",
       "      <td>80.155346</td>\n",
       "      <td>52.354485</td>\n",
       "      <td>27.265199</td>\n",
       "      <td>19.844654</td>\n",
       "      <td>47.645515</td>\n",
       "      <td>72.734801</td>\n",
       "      <td>1.452153</td>\n",
       "      <td>1.452153</td>\n",
       "      <td>1.452153</td>\n",
       "      <td>86478</td>\n",
       "      <td>37301</td>\n",
       "      <td>7902</td>\n",
       "      <td>21410</td>\n",
       "      <td>33946</td>\n",
       "      <td>21080</td>\n",
       "    </tr>\n",
       "    <tr>\n",
       "      <th>2</th>\n",
       "      <td>3</td>\n",
       "      <td>0.980278</td>\n",
       "      <td>1.074199</td>\n",
       "      <td>1.327868</td>\n",
       "      <td>80.157029</td>\n",
       "      <td>52.371900</td>\n",
       "      <td>27.275189</td>\n",
       "      <td>19.842971</td>\n",
       "      <td>47.628100</td>\n",
       "      <td>72.724811</td>\n",
       "      <td>1.452248</td>\n",
       "      <td>1.452248</td>\n",
       "      <td>1.452248</td>\n",
       "      <td>98723</td>\n",
       "      <td>42703</td>\n",
       "      <td>9066</td>\n",
       "      <td>24439</td>\n",
       "      <td>38835</td>\n",
       "      <td>24173</td>\n",
       "    </tr>\n",
       "    <tr>\n",
       "      <th>3</th>\n",
       "      <td>4</td>\n",
       "      <td>0.950763</td>\n",
       "      <td>1.024658</td>\n",
       "      <td>1.214977</td>\n",
       "      <td>81.215828</td>\n",
       "      <td>55.197125</td>\n",
       "      <td>31.863032</td>\n",
       "      <td>18.784172</td>\n",
       "      <td>44.802875</td>\n",
       "      <td>68.136968</td>\n",
       "      <td>1.428390</td>\n",
       "      <td>1.428390</td>\n",
       "      <td>1.428390</td>\n",
       "      <td>112743</td>\n",
       "      <td>52068</td>\n",
       "      <td>13046</td>\n",
       "      <td>26076</td>\n",
       "      <td>42263</td>\n",
       "      <td>27898</td>\n",
       "    </tr>\n",
       "  </tbody>\n",
       "</table>\n",
       "</div>"
      ],
      "text/plain": [
       "   k  mean_absolute_error_3  mean_absolute_error_4  mean_absolute_error_5  \\\n",
       "0  1               0.966602               1.055098               1.311278   \n",
       "1  2               0.978246               1.072270               1.327134   \n",
       "2  3               0.980278               1.074199               1.327868   \n",
       "3  4               0.950763               1.024658               1.214977   \n",
       "\n",
       "   perc_hits_3  perc_hits_4  perc_hits_5  perc_misses_3  perc_misses_4  \\\n",
       "0    80.646796    53.074941    27.585072      19.353204      46.925059   \n",
       "1    80.155346    52.354485    27.265199      19.844654      47.645515   \n",
       "2    80.157029    52.371900    27.275189      19.842971      47.628100   \n",
       "3    81.215828    55.197125    31.863032      18.784172      44.802875   \n",
       "\n",
       "   perc_misses_5    rmse_3    rmse_4    rmse_5  total_hits_3  total_hits_4  \\\n",
       "0      72.414928  1.440896  1.440896  1.440896         71620         31509   \n",
       "1      72.734801  1.452153  1.452153  1.452153         86478         37301   \n",
       "2      72.724811  1.452248  1.452248  1.452248         98723         42703   \n",
       "3      68.136968  1.428390  1.428390  1.428390        112743         52068   \n",
       "\n",
       "   total_hits_5  total_misses_3  total_misses_4  total_misses_5  \n",
       "0          6704           17187           27858           17599  \n",
       "1          7902           21410           33946           21080  \n",
       "2          9066           24439           38835           24173  \n",
       "3         13046           26076           42263           27898  "
      ]
     },
     "execution_count": 40,
     "metadata": {},
     "output_type": "execute_result"
    }
   ],
   "source": [
    "plot(df5c, '2000-2006 (min) ', y=['perc_hits_3', 'perc_hits_4', 'perc_hits_5'], prefix='min')\n",
    "df5c"
   ]
  },
  {
   "cell_type": "code",
   "execution_count": 9,
   "metadata": {},
   "outputs": [
    {
     "name": "stdout",
     "output_type": "stream",
     "text": [
      "Testing predictions for movie_id=3912.. (for k=5))Done.\n"
     ]
    },
    {
     "name": "stderr",
     "output_type": "stream",
     "text": [
      "/home/mariam/code/clacket/clacket/venv/lib/python3.6/site-packages/pandas/plotting/_core.py:1714: UserWarning: Pandas doesn't allow columns to be created via a new attribute name - see https://pandas.pydata.org/pandas-docs/stable/indexing.html#attribute-access\n",
      "  series.name = label\n"
     ]
    },
    {
     "data": {
      "image/png": "[encoded data removed]",
      "text/plain": [
       "<matplotlib.figure.Figure at 0x7fbcd86a7f98>"
      ]
     },
     "metadata": {},
     "output_type": "display_data"
    }
   ],
   "source": [
    "pool1, t_set1 = testing_set(0.05, movies)\n",
    "df1 = predict(pool1, t_set1, matrix, ks=[1,2,3,4,5], mins=[3,4,5])\n",
    "plot(df1, 'Training: 95%, Testing: 5%', '95_5')"
   ]
  },
  {
   "cell_type": "code",
   "execution_count": 10,
   "metadata": {
    "scrolled": true
   },
   "outputs": [
    {
     "data": {
      "text/html": [
       "<div>\n",
       "<style scoped>\n",
       "    .dataframe tbody tr th:only-of-type {\n",
       "        vertical-align: middle;\n",
       "    }\n",
       "\n",
       "    .dataframe tbody tr th {\n",
       "        vertical-align: top;\n",
       "    }\n",
       "\n",
       "    .dataframe thead th {\n",
       "        text-align: right;\n",
       "    }\n",
       "</style>\n",
       "<table border=\"1\" class=\"dataframe\">\n",
       "  <thead>\n",
       "    <tr style=\"text-align: right;\">\n",
       "      <th></th>\n",
       "      <th>k</th>\n",
       "      <th>mean_absolute_error_3</th>\n",
       "      <th>mean_absolute_error_4</th>\n",
       "      <th>mean_absolute_error_5</th>\n",
       "      <th>perc_hits_3</th>\n",
       "      <th>perc_hits_4</th>\n",
       "      <th>perc_hits_5</th>\n",
       "      <th>perc_misses_3</th>\n",
       "      <th>perc_misses_4</th>\n",
       "      <th>perc_misses_5</th>\n",
       "      <th>rmse_3</th>\n",
       "      <th>rmse_4</th>\n",
       "      <th>rmse_5</th>\n",
       "      <th>total_hits_3</th>\n",
       "      <th>total_hits_4</th>\n",
       "      <th>total_hits_5</th>\n",
       "      <th>total_misses_3</th>\n",
       "      <th>total_misses_4</th>\n",
       "      <th>total_misses_5</th>\n",
       "    </tr>\n",
       "  </thead>\n",
       "  <tbody>\n",
       "    <tr>\n",
       "      <th>0</th>\n",
       "      <td>1</td>\n",
       "      <td>0.847360</td>\n",
       "      <td>0.852952</td>\n",
       "      <td>1.051709</td>\n",
       "      <td>87.409843</td>\n",
       "      <td>63.115154</td>\n",
       "      <td>38.029820</td>\n",
       "      <td>12.590157</td>\n",
       "      <td>36.884846</td>\n",
       "      <td>61.970180</td>\n",
       "      <td>1.316792</td>\n",
       "      <td>1.316792</td>\n",
       "      <td>1.316792</td>\n",
       "      <td>248320</td>\n",
       "      <td>106166</td>\n",
       "      <td>20762</td>\n",
       "      <td>35767</td>\n",
       "      <td>62044</td>\n",
       "      <td>33832</td>\n",
       "    </tr>\n",
       "    <tr>\n",
       "      <th>1</th>\n",
       "      <td>2</td>\n",
       "      <td>0.854858</td>\n",
       "      <td>0.893983</td>\n",
       "      <td>1.120981</td>\n",
       "      <td>85.787812</td>\n",
       "      <td>59.821742</td>\n",
       "      <td>35.105931</td>\n",
       "      <td>14.212188</td>\n",
       "      <td>40.178258</td>\n",
       "      <td>64.894069</td>\n",
       "      <td>1.292562</td>\n",
       "      <td>1.292562</td>\n",
       "      <td>1.292562</td>\n",
       "      <td>513875</td>\n",
       "      <td>211154</td>\n",
       "      <td>39702</td>\n",
       "      <td>85132</td>\n",
       "      <td>141818</td>\n",
       "      <td>73390</td>\n",
       "    </tr>\n",
       "    <tr>\n",
       "      <th>2</th>\n",
       "      <td>3</td>\n",
       "      <td>0.836731</td>\n",
       "      <td>0.872278</td>\n",
       "      <td>1.090193</td>\n",
       "      <td>86.401016</td>\n",
       "      <td>60.900261</td>\n",
       "      <td>35.443596</td>\n",
       "      <td>13.598984</td>\n",
       "      <td>39.099739</td>\n",
       "      <td>64.556404</td>\n",
       "      <td>1.265164</td>\n",
       "      <td>1.265164</td>\n",
       "      <td>1.265164</td>\n",
       "      <td>770348</td>\n",
       "      <td>315886</td>\n",
       "      <td>57940</td>\n",
       "      <td>121248</td>\n",
       "      <td>202808</td>\n",
       "      <td>105531</td>\n",
       "    </tr>\n",
       "    <tr>\n",
       "      <th>3</th>\n",
       "      <td>4</td>\n",
       "      <td>0.826475</td>\n",
       "      <td>0.855845</td>\n",
       "      <td>1.068844</td>\n",
       "      <td>86.808828</td>\n",
       "      <td>61.851999</td>\n",
       "      <td>36.185260</td>\n",
       "      <td>13.191172</td>\n",
       "      <td>38.148001</td>\n",
       "      <td>63.814740</td>\n",
       "      <td>1.252930</td>\n",
       "      <td>1.252930</td>\n",
       "      <td>1.252930</td>\n",
       "      <td>905897</td>\n",
       "      <td>369990</td>\n",
       "      <td>66206</td>\n",
       "      <td>137657</td>\n",
       "      <td>228196</td>\n",
       "      <td>116758</td>\n",
       "    </tr>\n",
       "    <tr>\n",
       "      <th>4</th>\n",
       "      <td>5</td>\n",
       "      <td>0.823205</td>\n",
       "      <td>0.850553</td>\n",
       "      <td>1.062672</td>\n",
       "      <td>87.068347</td>\n",
       "      <td>62.422540</td>\n",
       "      <td>36.313943</td>\n",
       "      <td>12.931653</td>\n",
       "      <td>37.577460</td>\n",
       "      <td>63.686057</td>\n",
       "      <td>1.249659</td>\n",
       "      <td>1.249659</td>\n",
       "      <td>1.249659</td>\n",
       "      <td>967877</td>\n",
       "      <td>391046</td>\n",
       "      <td>68824</td>\n",
       "      <td>143752</td>\n",
       "      <td>235404</td>\n",
       "      <td>120701</td>\n",
       "    </tr>\n",
       "  </tbody>\n",
       "</table>\n",
       "</div>"
      ],
      "text/plain": [
       "   k  mean_absolute_error_3  mean_absolute_error_4  mean_absolute_error_5  \\\n",
       "0  1               0.847360               0.852952               1.051709   \n",
       "1  2               0.854858               0.893983               1.120981   \n",
       "2  3               0.836731               0.872278               1.090193   \n",
       "3  4               0.826475               0.855845               1.068844   \n",
       "4  5               0.823205               0.850553               1.062672   \n",
       "\n",
       "   perc_hits_3  perc_hits_4  perc_hits_5  perc_misses_3  perc_misses_4  \\\n",
       "0    87.409843    63.115154    38.029820      12.590157      36.884846   \n",
       "1    85.787812    59.821742    35.105931      14.212188      40.178258   \n",
       "2    86.401016    60.900261    35.443596      13.598984      39.099739   \n",
       "3    86.808828    61.851999    36.185260      13.191172      38.148001   \n",
       "4    87.068347    62.422540    36.313943      12.931653      37.577460   \n",
       "\n",
       "   perc_misses_5    rmse_3    rmse_4    rmse_5  total_hits_3  total_hits_4  \\\n",
       "0      61.970180  1.316792  1.316792  1.316792        248320        106166   \n",
       "1      64.894069  1.292562  1.292562  1.292562        513875        211154   \n",
       "2      64.556404  1.265164  1.265164  1.265164        770348        315886   \n",
       "3      63.814740  1.252930  1.252930  1.252930        905897        369990   \n",
       "4      63.686057  1.249659  1.249659  1.249659        967877        391046   \n",
       "\n",
       "   total_hits_5  total_misses_3  total_misses_4  total_misses_5  \n",
       "0         20762           35767           62044           33832  \n",
       "1         39702           85132          141818           73390  \n",
       "2         57940          121248          202808          105531  \n",
       "3         66206          137657          228196          116758  \n",
       "4         68824          143752          235404          120701  "
      ]
     },
     "execution_count": 10,
     "metadata": {},
     "output_type": "execute_result"
    }
   ],
   "source": [
    "df1"
   ]
  },
  {
   "cell_type": "code",
   "execution_count": 11,
   "metadata": {},
   "outputs": [],
   "source": [
    "df19 = pd.read_pickle('10_90.pyc')"
   ]
  },
  {
   "cell_type": "code",
   "execution_count": 12,
   "metadata": {},
   "outputs": [
    {
     "name": "stderr",
     "output_type": "stream",
     "text": [
      "/home/mariam/code/clacket/clacket/venv/lib/python3.6/site-packages/pandas/plotting/_core.py:1714: UserWarning: Pandas doesn't allow columns to be created via a new attribute name - see https://pandas.pydata.org/pandas-docs/stable/indexing.html#attribute-access\n",
      "  series.name = label\n"
     ]
    },
    {
     "data": {
      "image/png": "[encoded data removed]",
      "text/plain": [
       "<matplotlib.figure.Figure at 0x7fbc1e51bba8>"
      ]
     },
     "metadata": {},
     "output_type": "display_data"
    }
   ],
   "source": [
    "plot(df19, 'Training: 90%, Testing: 10%', '90_10')"
   ]
  },
  {
   "cell_type": "code",
   "execution_count": 21,
   "metadata": {},
   "outputs": [
    {
     "name": "stdout",
     "output_type": "stream",
     "text": [
      "Testing predictions for movie_id=15011.. (for k=4)Done.\n"
     ]
    },
    {
     "name": "stderr",
     "output_type": "stream",
     "text": [
      "/home/mariam/code/clacket/clacket/venv/lib/python3.6/site-packages/pandas/plotting/_core.py:1714: UserWarning: Pandas doesn't allow columns to be created via a new attribute name - see https://pandas.pydata.org/pandas-docs/stable/indexing.html#attribute-access\n",
      "  series.name = label\n"
     ]
    },
    {
     "data": {
      "image/png": "[encoded data removed]",
      "text/plain": [
       "<matplotlib.figure.Figure at 0x7fbc1add87f0>"
      ]
     },
     "metadata": {},
     "output_type": "display_data"
    }
   ],
   "source": [
    "pool2, t_set2 = testing_set(0.2, movies)\n",
    "df2 = predict(pool2, t_set2, matrix, ks=[1,2,3,4], mins=[3,4,5])\n",
    "plot(df2, 'Training: 80%, Testing: 20%', '80_20_new')"
   ]
  },
  {
   "cell_type": "code",
   "execution_count": 4,
   "metadata": {},
   "outputs": [
    {
     "data": {
      "text/html": [
       "<div>\n",
       "<style scoped>\n",
       "    .dataframe tbody tr th:only-of-type {\n",
       "        vertical-align: middle;\n",
       "    }\n",
       "\n",
       "    .dataframe tbody tr th {\n",
       "        vertical-align: top;\n",
       "    }\n",
       "\n",
       "    .dataframe thead th {\n",
       "        text-align: right;\n",
       "    }\n",
       "</style>\n",
       "<table border=\"1\" class=\"dataframe\">\n",
       "  <thead>\n",
       "    <tr style=\"text-align: right;\">\n",
       "      <th></th>\n",
       "      <th>k</th>\n",
       "      <th>mean_absolute_error_3</th>\n",
       "      <th>mean_absolute_error_4</th>\n",
       "      <th>mean_absolute_error_5</th>\n",
       "      <th>perc_hits_3</th>\n",
       "      <th>perc_hits_4</th>\n",
       "      <th>perc_hits_5</th>\n",
       "      <th>perc_misses_3</th>\n",
       "      <th>perc_misses_4</th>\n",
       "      <th>perc_misses_5</th>\n",
       "      <th>rmse_3</th>\n",
       "      <th>rmse_4</th>\n",
       "      <th>rmse_5</th>\n",
       "      <th>total_hits_3</th>\n",
       "      <th>total_hits_4</th>\n",
       "      <th>total_hits_5</th>\n",
       "      <th>total_misses_3</th>\n",
       "      <th>total_misses_4</th>\n",
       "      <th>total_misses_5</th>\n",
       "    </tr>\n",
       "  </thead>\n",
       "  <tbody>\n",
       "    <tr>\n",
       "      <th>0</th>\n",
       "      <td>1</td>\n",
       "      <td>0.250936</td>\n",
       "      <td>0.242842</td>\n",
       "      <td>0.271889</td>\n",
       "      <td>96.559781</td>\n",
       "      <td>89.930340</td>\n",
       "      <td>83.253134</td>\n",
       "      <td>3.440219</td>\n",
       "      <td>10.069660</td>\n",
       "      <td>16.746866</td>\n",
       "      <td>0.700751</td>\n",
       "      <td>0.700751</td>\n",
       "      <td>0.700751</td>\n",
       "      <td>1605485</td>\n",
       "      <td>967985</td>\n",
       "      <td>356753</td>\n",
       "      <td>57200</td>\n",
       "      <td>108387</td>\n",
       "      <td>71763</td>\n",
       "    </tr>\n",
       "    <tr>\n",
       "      <th>1</th>\n",
       "      <td>2</td>\n",
       "      <td>0.445686</td>\n",
       "      <td>0.443283</td>\n",
       "      <td>0.505147</td>\n",
       "      <td>93.706914</td>\n",
       "      <td>81.044680</td>\n",
       "      <td>69.248031</td>\n",
       "      <td>6.293086</td>\n",
       "      <td>18.955320</td>\n",
       "      <td>30.751969</td>\n",
       "      <td>0.918352</td>\n",
       "      <td>0.918352</td>\n",
       "      <td>0.918352</td>\n",
       "      <td>2363279</td>\n",
       "      <td>1307027</td>\n",
       "      <td>420294</td>\n",
       "      <td>158711</td>\n",
       "      <td>305697</td>\n",
       "      <td>186646</td>\n",
       "    </tr>\n",
       "    <tr>\n",
       "      <th>2</th>\n",
       "      <td>3</td>\n",
       "      <td>0.546595</td>\n",
       "      <td>0.546344</td>\n",
       "      <td>0.632274</td>\n",
       "      <td>92.398497</td>\n",
       "      <td>76.842884</td>\n",
       "      <td>61.368781</td>\n",
       "      <td>7.601503</td>\n",
       "      <td>23.157116</td>\n",
       "      <td>38.631219</td>\n",
       "      <td>1.006340</td>\n",
       "      <td>1.006340</td>\n",
       "      <td>1.006340</td>\n",
       "      <td>3090556</td>\n",
       "      <td>1633108</td>\n",
       "      <td>474431</td>\n",
       "      <td>254256</td>\n",
       "      <td>492148</td>\n",
       "      <td>298651</td>\n",
       "    </tr>\n",
       "    <tr>\n",
       "      <th>3</th>\n",
       "      <td>4</td>\n",
       "      <td>0.602603</td>\n",
       "      <td>0.591459</td>\n",
       "      <td>0.676588</td>\n",
       "      <td>91.731032</td>\n",
       "      <td>75.332081</td>\n",
       "      <td>58.620780</td>\n",
       "      <td>8.268968</td>\n",
       "      <td>24.667919</td>\n",
       "      <td>41.379220</td>\n",
       "      <td>1.056594</td>\n",
       "      <td>1.056594</td>\n",
       "      <td>1.056594</td>\n",
       "      <td>3694715</td>\n",
       "      <td>1876434</td>\n",
       "      <td>513732</td>\n",
       "      <td>333055</td>\n",
       "      <td>614449</td>\n",
       "      <td>362633</td>\n",
       "    </tr>\n",
       "  </tbody>\n",
       "</table>\n",
       "</div>"
      ],
      "text/plain": [
       "   k  mean_absolute_error_3  mean_absolute_error_4  mean_absolute_error_5  \\\n",
       "0  1               0.250936               0.242842               0.271889   \n",
       "1  2               0.445686               0.443283               0.505147   \n",
       "2  3               0.546595               0.546344               0.632274   \n",
       "3  4               0.602603               0.591459               0.676588   \n",
       "\n",
       "   perc_hits_3  perc_hits_4  perc_hits_5  perc_misses_3  perc_misses_4  \\\n",
       "0    96.559781    89.930340    83.253134       3.440219      10.069660   \n",
       "1    93.706914    81.044680    69.248031       6.293086      18.955320   \n",
       "2    92.398497    76.842884    61.368781       7.601503      23.157116   \n",
       "3    91.731032    75.332081    58.620780       8.268968      24.667919   \n",
       "\n",
       "   perc_misses_5    rmse_3    rmse_4    rmse_5  total_hits_3  total_hits_4  \\\n",
       "0      16.746866  0.700751  0.700751  0.700751       1605485        967985   \n",
       "1      30.751969  0.918352  0.918352  0.918352       2363279       1307027   \n",
       "2      38.631219  1.006340  1.006340  1.006340       3090556       1633108   \n",
       "3      41.379220  1.056594  1.056594  1.056594       3694715       1876434   \n",
       "\n",
       "   total_hits_5  total_misses_3  total_misses_4  total_misses_5  \n",
       "0        356753           57200          108387           71763  \n",
       "1        420294          158711          305697          186646  \n",
       "2        474431          254256          492148          298651  \n",
       "3        513732          333055          614449          362633  "
      ]
     },
     "execution_count": 4,
     "metadata": {},
     "output_type": "execute_result"
    }
   ],
   "source": [
    "df2 = pd.read_pickle('80_20.pkl')\n",
    "df2"
   ]
  },
  {
   "cell_type": "code",
   "execution_count": 27,
   "metadata": {},
   "outputs": [
    {
     "name": "stderr",
     "output_type": "stream",
     "text": [
      "/home/mariam/code/clacket/clacket/venv/lib/python3.6/site-packages/pandas/plotting/_core.py:1714: UserWarning: Pandas doesn't allow columns to be created via a new attribute name - see https://pandas.pydata.org/pandas-docs/stable/indexing.html#attribute-access\n",
      "  series.name = label\n"
     ]
    },
    {
     "data": {
      "image/png": "[encoded data removed]",
      "text/plain": [
       "<matplotlib.figure.Figure at 0x7fd8948e2710>"
      ]
     },
     "metadata": {},
     "output_type": "display_data"
    }
   ],
   "source": [
    "plot(df2, 'Testing: 20%, Training: 80%', '80_20_new')"
   ]
  },
  {
   "cell_type": "code",
   "execution_count": 16,
   "metadata": {},
   "outputs": [
    {
     "name": "stdout",
     "output_type": "stream",
     "text": [
      "Testing predictions for movie_id=6858.. (for k=4))Done.\n"
     ]
    },
    {
     "name": "stderr",
     "output_type": "stream",
     "text": [
      "/home/mariam/code/clacket/clacket/venv/lib/python3.6/site-packages/pandas/plotting/_core.py:1714: UserWarning: Pandas doesn't allow columns to be created via a new attribute name - see https://pandas.pydata.org/pandas-docs/stable/indexing.html#attribute-access\n",
      "  series.name = label\n"
     ]
    },
    {
     "data": {
      "image/png": "[encoded data removed]",
      "text/plain": [
       "<matplotlib.figure.Figure at 0x7fbc1e7dd748>"
      ]
     },
     "metadata": {},
     "output_type": "display_data"
    }
   ],
   "source": [
    "pool, t_set = cronological_set(2002, 2006)\n",
    "df = predict(pool, t_set, matrix, ks=[1,2,3,4], mins=[3,4,5], cronological=True, start=2003, end=2006)\n",
    "plot(df, 'Testing: [2002, 2005], 20%', '2002_2005')"
   ]
  },
  {
   "cell_type": "code",
   "execution_count": 17,
   "metadata": {},
   "outputs": [
    {
     "name": "stdout",
     "output_type": "stream",
     "text": [
      "Testing predictions for movie_id=6091.. (for k=4))Done.\n"
     ]
    },
    {
     "name": "stderr",
     "output_type": "stream",
     "text": [
      "/home/mariam/code/clacket/clacket/venv/lib/python3.6/site-packages/pandas/plotting/_core.py:1714: UserWarning: Pandas doesn't allow columns to be created via a new attribute name - see https://pandas.pydata.org/pandas-docs/stable/indexing.html#attribute-access\n",
      "  series.name = label\n"
     ]
    },
    {
     "data": {
      "image/png": "[encoded data removed]",
      "text/plain": [
       "<matplotlib.figure.Figure at 0x7fbc1e64cef0>"
      ]
     },
     "metadata": {},
     "output_type": "display_data"
    }
   ],
   "source": [
    "pool22, t_set22 = testing_set(0.2, movies)\n",
    "df22 = predict(pool22, t_set22, matrix, ks=[1,2,3,4], mins=[3,4,5], predicted_type='max')\n",
    "plot(df22, 'Training: 80%, Testing: 20% (max)', '80_20_max')"
   ]
  },
  {
   "cell_type": "code",
   "execution_count": 18,
   "metadata": {},
   "outputs": [
    {
     "name": "stdout",
     "output_type": "stream",
     "text": [
      "Testing predictions for movie_id=9208.. (for k=4))Done.\n"
     ]
    },
    {
     "name": "stderr",
     "output_type": "stream",
     "text": [
      "/home/mariam/code/clacket/clacket/venv/lib/python3.6/site-packages/pandas/plotting/_core.py:1714: UserWarning: Pandas doesn't allow columns to be created via a new attribute name - see https://pandas.pydata.org/pandas-docs/stable/indexing.html#attribute-access\n",
      "  series.name = label\n"
     ]
    },
    {
     "data": {
      "image/png": "[encoded data removed]",
      "text/plain": [
       "<matplotlib.figure.Figure at 0x7fbc1e64cba8>"
      ]
     },
     "metadata": {},
     "output_type": "display_data"
    }
   ],
   "source": [
    "pool23, t_set23 = testing_set(0.2, movies)\n",
    "df23 = predict(pool23, t_set23, matrix, ks=[1,2,3,4], mins=[3,4,5], predicted_type='min')\n",
    "plot(df23, 'Training: 80%, Testing: 20% (min)', '80_20_min')"
   ]
  },
  {
   "cell_type": "code",
   "execution_count": 19,
   "metadata": {},
   "outputs": [
    {
     "name": "stdout",
     "output_type": "stream",
     "text": [
      "Testing predictions for movie_id=6858.. (for k=4))Done.\n"
     ]
    },
    {
     "name": "stderr",
     "output_type": "stream",
     "text": [
      "/home/mariam/code/clacket/clacket/venv/lib/python3.6/site-packages/pandas/plotting/_core.py:1714: UserWarning: Pandas doesn't allow columns to be created via a new attribute name - see https://pandas.pydata.org/pandas-docs/stable/indexing.html#attribute-access\n",
      "  series.name = label\n"
     ]
    },
    {
     "data": {
      "image/png": "[encoded data removed]",
      "text/plain": [
       "<matplotlib.figure.Figure at 0x7fbc1e640cf8>"
      ]
     },
     "metadata": {},
     "output_type": "display_data"
    }
   ],
   "source": [
    "pool01, t_set01 = cronological_set(2002, 2006)\n",
    "df01 = predict(pool01, t_set01, matrix, ks=[1,2,3,4], mins=[3,4,5], cronological=True, start=2003, end=2006, predicted_type='max')\n",
    "plot(df01, 'Testing: [2002, 2005], 20% (max)', '2002_2005_max')"
   ]
  },
  {
   "cell_type": "code",
   "execution_count": 20,
   "metadata": {},
   "outputs": [
    {
     "name": "stdout",
     "output_type": "stream",
     "text": [
      "Testing predictions for movie_id=6858.. (for k=4))Done.\n"
     ]
    },
    {
     "name": "stderr",
     "output_type": "stream",
     "text": [
      "/home/mariam/code/clacket/clacket/venv/lib/python3.6/site-packages/pandas/plotting/_core.py:1714: UserWarning: Pandas doesn't allow columns to be created via a new attribute name - see https://pandas.pydata.org/pandas-docs/stable/indexing.html#attribute-access\n",
      "  series.name = label\n"
     ]
    },
    {
     "data": {
      "image/png": "[encoded data removed]",
      "text/plain": [
       "<matplotlib.figure.Figure at 0x7fbc1e70f2e8>"
      ]
     },
     "metadata": {},
     "output_type": "display_data"
    }
   ],
   "source": [
    "pool02, t_set02 = cronological_set(2002, 2006)\n",
    "df02 = predict(pool02, t_set02, matrix, ks=[1,2,3,4], mins=[3,4,5], cronological=True, start=2003, end=2006, predicted_type='min')\n",
    "plot(df02, 'Testing: [2002, 2005], 20% (min)', '2002_2005_min')"
   ]
  },
  {
   "cell_type": "code",
   "execution_count": 38,
   "metadata": {},
   "outputs": [
    {
     "name": "stdout",
     "output_type": "stream",
     "text": [
      "Testing predictions for movie_id=1865.. (for k=4))Done.\n"
     ]
    },
    {
     "name": "stderr",
     "output_type": "stream",
     "text": [
      "/home/mariam/code/clacket/clacket/venv/lib/python3.6/site-packages/pandas/plotting/_core.py:1714: UserWarning: Pandas doesn't allow columns to be created via a new attribute name - see https://pandas.pydata.org/pandas-docs/stable/indexing.html#attribute-access\n",
      "  series.name = label\n"
     ]
    },
    {
     "data": {
      "image/png": "[encoded data removed]",
      "text/plain": [
       "<matplotlib.figure.Figure at 0x7fd7e1c13240>"
      ]
     },
     "metadata": {},
     "output_type": "display_data"
    }
   ],
   "source": [
    "for year in [2004]:\n",
    "    pool, t_set = cronological_set(year, year)\n",
    "    df = predict(pool, t_set, matrix, ks=[1,2,3,4], mins=[3,4,5], cronological=True, start=year, end=year)\n",
    "    plot(df, 'Testing: [{0}], Training: [1914, {0})'.format(year), 'single_year_{0}'.format(year))"
   ]
  },
  {
   "cell_type": "code",
   "execution_count": 46,
   "metadata": {},
   "outputs": [
    {
     "name": "stderr",
     "output_type": "stream",
     "text": [
      "/home/mariam/code/clacket/clacket/venv/lib/python3.6/site-packages/pandas/plotting/_core.py:1714: UserWarning: Pandas doesn't allow columns to be created via a new attribute name - see https://pandas.pydata.org/pandas-docs/stable/indexing.html#attribute-access\n",
      "  series.name = label\n"
     ]
    },
    {
     "data": {
      "image/png": "[encoded data removed]",
      "text/plain": [
       "<matplotlib.figure.Figure at 0x7fd7e1b7b438>"
      ]
     },
     "metadata": {},
     "output_type": "display_data"
    },
    {
     "data": {
      "image/png": "[encoded data removed]",
      "text/plain": [
       "<matplotlib.figure.Figure at 0x7fd894660978>"
      ]
     },
     "metadata": {},
     "output_type": "display_data"
    },
    {
     "data": {
      "image/png": "[encoded data removed]",
      "text/plain": [
       "<matplotlib.figure.Figure at 0x7fd89470a2e8>"
      ]
     },
     "metadata": {},
     "output_type": "display_data"
    },
    {
     "data": {
      "image/png": "[encoded data removed]",
      "text/plain": [
       "<matplotlib.figure.Figure at 0x7fd7e192d518>"
      ]
     },
     "metadata": {},
     "output_type": "display_data"
    },
    {
     "data": {
      "image/png": "[encoded data removed]",
      "text/plain": [
       "<matplotlib.figure.Figure at 0x7fd7e189be48>"
      ]
     },
     "metadata": {},
     "output_type": "display_data"
    },
    {
     "data": {
      "image/png": "[encoded data removed]",
      "text/plain": [
       "<matplotlib.figure.Figure at 0x7fd7e1862cf8>"
      ]
     },
     "metadata": {},
     "output_type": "display_data"
    },
    {
     "data": {
      "image/png": "[encoded data removed]",
      "text/plain": [
       "<matplotlib.figure.Figure at 0x7fd7e17cb8d0>"
      ]
     },
     "metadata": {},
     "output_type": "display_data"
    },
    {
     "data": {
      "image/png": "[encoded data removed]",
      "text/plain": [
       "<matplotlib.figure.Figure at 0x7fd7e17546a0>"
      ]
     },
     "metadata": {},
     "output_type": "display_data"
    }
   ],
   "source": [
    "for k in [1,2,3,4]:\n",
    "    for t in ['MAE', 'perc_hits']:\n",
    "        lim = (0, 100) if t == 'perc_hits' else None\n",
    "        dfx = pd.read_pickle('80_20_min_max_k_{0}_{1}.pkl'.format(k, t))\n",
    "        plot(dfx, 'Mean vs. Max vs. Min ({0}), k={1}'.format(t, k), '80_20_min_max_k_{0}_{1}'.format(k, t), ylim=lim, x='type', y=['{0}_{1}'.format(t, x) for x in [3, 4, 5]])"
   ]
  },
  {
   "cell_type": "code",
   "execution_count": null,
   "metadata": {},
   "outputs": [],
   "source": []
  }
 ],
 "metadata": {
  "kernelspec": {
   "display_name": "Python 3",
   "language": "python",
   "name": "python3"
  },
  "language_info": {
   "codemirror_mode": {
    "name": "ipython",
    "version": 3
   },
   "file_extension": ".py",
   "mimetype": "text/x-python",
   "name": "python",
   "nbconvert_exporter": "python",
   "pygments_lexer": "ipython3",
   "version": "3.6.2"
  }
 },
 "nbformat": 4,
 "nbformat_minor": 2
}
