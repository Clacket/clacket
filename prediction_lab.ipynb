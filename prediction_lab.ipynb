{
 "cells": [
  {
   "cell_type": "code",
   "execution_count": 1,
   "metadata": {},
   "outputs": [],
   "source": [
    "from engine.models.distance import DistanceMatrix\n",
    "from engine.models.movie import Movie"
   ]
  },
  {
   "cell_type": "code",
   "execution_count": 2,
   "metadata": {},
   "outputs": [],
   "source": [
    "folder = '/media/mariam/Files/ran/clacket-save'\n",
    "matrix = DistanceMatrix(folder)\n",
    "matrix.load()"
   ]
  },
  {
   "cell_type": "code",
   "execution_count": 3,
   "metadata": {},
   "outputs": [],
   "source": [
    "movies = ['1'] + list(matrix.matrix['1'].keys())"
   ]
  },
  {
   "cell_type": "code",
   "execution_count": 4,
   "metadata": {},
   "outputs": [],
   "source": [
    "import random\n",
    "from math import ceil\n",
    "\n",
    "training_size = ceil(0.7 * len(movies))\n",
    "training_set = random.sample(movies, training_size)\n",
    "# testing_set = [x for x in movies if x not in training_set]\n",
    "testing_set = movies"
   ]
  },
  {
   "cell_type": "code",
   "execution_count": 8,
   "metadata": {},
   "outputs": [],
   "source": [
    "import sys\n",
    "\n",
    "def k_nearest(matrix, id, k=5, thresh=None):\n",
    "    distances = matrix.get_all(id)\n",
    "    nearest_k = sorted(distances, key=lambda x: x[1])[1:k+1] # start from 1 because 0 will always be itself\n",
    "    return [x[0] for x in nearest_k] if thresh is None else [x[0] for x in nearest_k if x[1] >= thresh]\n",
    "\n",
    "def k_nearest_all(training_set, matrix, k=5):\n",
    "    i = 1\n",
    "    n = len(testing_set)\n",
    "    for movie_id in testing_set:\n",
    "        sys.stdout.write('\\rCalculating nearest K for {0} out of {1}..'.format(i, n))\n",
    "        sys.stdout.flush()\n",
    "        movie = Movie.load(folder, movie_id)\n",
    "        nearest = k_nearest(matrix, movie_id, k=k)\n",
    "        users = []\n",
    "        if not hasattr(movie, 'predictions') or movie.predictions is None or type(movie.predictions) == list:\n",
    "            movie.predictions = {}\n",
    "        for near_movie_id in nearest:\n",
    "            near_movie = Movie.load(folder, near_movie_id)\n",
    "            positive_users = near_movie.ratings[near_movie.ratings['rating'] > 3]['user_id'].tolist()\n",
    "            users.extend(positive_users)\n",
    "        movie.predictions[k] = users\n",
    "        movie.save(folder)\n",
    "        i += 1\n",
    "\n",
    "def measure_predictions(movie_id, min, k):\n",
    "    movie = Movie.load(folder, movie_id)\n",
    "    intersection = movie.ratings[movie.ratings['user_id'].isin(movie.predictions[k])]\n",
    "    hits = intersection[intersection['rating'] >= min].shape[0]\n",
    "    misses = intersection[intersection['rating'] < min].shape[0]\n",
    "    return (hits, misses)\n",
    "\n",
    "def all_predictions(testing_set, min=4, k=5):\n",
    "    hits = 0\n",
    "    misses = 0\n",
    "    for movie_id in testing_set:\n",
    "        m_hits, m_misses = measure_predictions(movie_id, min, k)\n",
    "        hits += m_hits\n",
    "        misses += m_misses\n",
    "    return (hits, misses)\n",
    "\n",
    "def print_perc(predictions):\n",
    "    hits, misses = predictions\n",
    "    total = hits + misses\n",
    "    hits_p = (hits/total) * 100\n",
    "    misses_p = (misses/total) * 100\n",
    "    print('Total hits: {0} ({1}%)\\nTotal misses: {2} ({3}%)'.format(hits, hits_p, misses, misses_p))\n",
    "\n",
    "def predict_and_print(training_set, matrix, k=5):\n",
    "    print('k={0}:'.format(k))\n",
    "    print('-----')\n",
    "\n",
    "    k_nearest_all(training_set, matrix, k=k)\n",
    "    print('Done.')\n",
    "\n",
    "    predictions_4 = all_predictions(training_set, min=4, k=k)\n",
    "    print('Results when counting good as 4 or 5 stars:')\n",
    "    print_perc(predictions_4)\n",
    "\n",
    "    predictions_3 = all_predictions(training_set, min=3, k=k)\n",
    "    print('Results when counting good as 3, 4, or 5 stars:')\n",
    "    print_perc(predictions_3)"
   ]
  },
  {
   "cell_type": "code",
   "execution_count": null,
   "metadata": {},
   "outputs": [
    {
     "name": "stdout",
     "output_type": "stream",
     "text": [
      "k=6:\n",
      "-----\n",
      "Calculating nearest K for 9399 out of 9399..Done.\n",
      "Results when counting good as 4 or 5 stars:\n",
      "Total hits: 11946801 (78.53188870464925%)\n",
      "Total misses: 3265874 (21.468111295350752%)\n"
     ]
    }
   ],
   "source": [
    "predict_and_print(training_set, matrix, k=6)"
   ]
  },
  {
   "cell_type": "code",
   "execution_count": 6,
   "metadata": {},
   "outputs": [
    {
     "name": "stdout",
     "output_type": "stream",
     "text": [
      "k=5:\n",
      "-----\n",
      "Calculating nearest K for 9399 out of 9399..Done.\n",
      "Results when counting good as 4 or 5 stars:\n",
      "Total hits: 11198580 (80.8065749679565%)\n",
      "Total misses: 2659921 (19.19342503204351%)\n",
      "Results when counting good as 3, 4, or 5 stars:\n",
      "Total hits: 13140942 (94.82224664846508%)\n",
      "Total misses: 717559 (5.177753351534918%)\n"
     ]
    }
   ],
   "source": [
    "predict_and_print(training_set, matrix, k=5)"
   ]
  },
  {
   "cell_type": "code",
   "execution_count": 9,
   "metadata": {},
   "outputs": [
    {
     "name": "stdout",
     "output_type": "stream",
     "text": [
      "k=4:\n",
      "-----\n",
      "Calculating nearest K for 9399 out of 9399..Done.\n",
      "Results when counting good as 4 or 5 stars:\n",
      "Total hits: 10494093 (83.93752780495952%)\n",
      "Total misses: 2008173 (16.062472195040485%)\n",
      "Results when counting good as 3, 4, or 5 stars:\n",
      "Total hits: 11963726 (95.69246087069337%)\n",
      "Total misses: 538540 (4.307539129306639%)\n"
     ]
    }
   ],
   "source": [
    "predict_and_print(training_set, matrix, k=4)"
   ]
  },
  {
   "cell_type": "code",
   "execution_count": 10,
   "metadata": {},
   "outputs": [
    {
     "name": "stdout",
     "output_type": "stream",
     "text": [
      "k=3:\n",
      "-----\n",
      "Calculating nearest K for 9399 out of 9399..Done.\n",
      "Results when counting good as 4 or 5 stars:\n",
      "Total hits: 9447972 (87.95226359989644%)\n",
      "Total misses: 1294187 (12.047736400103554%)\n",
      "Results when counting good as 3, 4, or 5 stars:\n",
      "Total hits: 10402355 (96.83672528027188%)\n",
      "Total misses: 339804 (3.163274719728129%)\n"
     ]
    }
   ],
   "source": [
    "predict_and_print(training_set, matrix, k=3)"
   ]
  }
 ],
 "metadata": {
  "kernelspec": {
   "display_name": "Python 3",
   "language": "python",
   "name": "python3"
  },
  "language_info": {
   "codemirror_mode": {
    "name": "ipython",
    "version": 3
   },
   "file_extension": ".py",
   "mimetype": "text/x-python",
   "name": "python",
   "nbconvert_exporter": "python",
   "pygments_lexer": "ipython3",
   "version": "3.6.2"
  }
 },
 "nbformat": 4,
 "nbformat_minor": 2
}
